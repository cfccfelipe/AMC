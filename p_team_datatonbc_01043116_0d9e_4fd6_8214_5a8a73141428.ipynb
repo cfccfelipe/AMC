{
  "nbformat": 4,
  "nbformat_minor": 0,
  "metadata": {
    "kernelspec": {
      "display_name": "Python 3",
      "language": "python",
      "name": "python3"
    },
    "language_info": {
      "codemirror_mode": {
        "name": "ipython",
        "version": 3
      },
      "file_extension": ".py",
      "mimetype": "text/x-python",
      "name": "python",
      "nbconvert_exporter": "python",
      "pygments_lexer": "ipython3",
      "version": "3.7.9"
    },
    "colab": {
      "name": "p-team-datatonbc-01043116-0d9e-4fd6-8214-5a8a73141428.ipynb",
      "provenance": [],
      "collapsed_sections": [],
      "include_colab_link": true
    }
  },
  "cells": [
    {
      "cell_type": "markdown",
      "metadata": {
        "id": "view-in-github",
        "colab_type": "text"
      },
      "source": [
        "<a href=\"https://colab.research.google.com/github/cfccfelipe/AMC/blob/main/p_team_datatonbc_01043116_0d9e_4fd6_8214_5a8a73141428.ipynb\" target=\"_parent\"><img src=\"https://colab.research.google.com/assets/colab-badge.svg\" alt=\"Open In Colab\"/></a>"
      ]
    },
    {
      "cell_type": "code",
      "metadata": {
        "_cell_guid": "b1076dfc-b9ad-4769-8c92-a6c4dae69d19",
        "_uuid": "8f2839f25d086af736a60e9eeb907d3b93b6e0e5",
        "id": "_Ed4ymms1b9R"
      },
      "source": [
        "import numpy as np\n",
        "import pandas as pd"
      ],
      "execution_count": null,
      "outputs": []
    },
    {
      "cell_type": "code",
      "metadata": {
        "id": "huDIfOvn1b9b",
        "outputId": "0c1cad76-e832-48cb-db72-27bcb069a941"
      },
      "source": [
        "#! wget https://dataton2020train.s3.amazonaws.com/Dataton_train_semicolon.zip"
      ],
      "execution_count": null,
      "outputs": [
        {
          "output_type": "stream",
          "text": [
            "--2021-01-21 03:40:03--  https://dataton2020train.s3.amazonaws.com/Dataton_train_semicolon.zip\n",
            "Resolving dataton2020train.s3.amazonaws.com (dataton2020train.s3.amazonaws.com)... 52.217.98.140\n",
            "Connecting to dataton2020train.s3.amazonaws.com (dataton2020train.s3.amazonaws.com)|52.217.98.140|:443... connected.\n",
            "HTTP request sent, awaiting response... 200 OK\n",
            "Length: 984345919 (939M) [application/zip]\n",
            "Saving to: ‘Dataton_train_semicolon.zip’\n",
            "\n",
            "Dataton_train_semic 100%[===================>] 938.75M  76.8MB/s    in 12s     \n",
            "\n",
            "2021-01-21 03:40:15 (79.5 MB/s) - ‘Dataton_train_semicolon.zip’ saved [984345919/984345919]\n",
            "\n"
          ],
          "name": "stdout"
        }
      ]
    },
    {
      "cell_type": "code",
      "metadata": {
        "id": "pxqHHmQ81b9d",
        "outputId": "bee20e9b-ee7d-4bc1-cf34-035f8105c73c"
      },
      "source": [
        "#! unzip Dataton_train_semicolon.zip"
      ],
      "execution_count": null,
      "outputs": [
        {
          "output_type": "stream",
          "text": [
            "Archive:  Dataton_train_semicolon.zip\n",
            "  inflating: Dataton_train_semicolon.csv  \n",
            "  inflating: header.txt              \n"
          ],
          "name": "stdout"
        }
      ]
    },
    {
      "cell_type": "code",
      "metadata": {
        "id": "ugQtlk0_1b9e",
        "outputId": "6f9bae2e-01b5-4e01-b5a0-7b252cba1a0c"
      },
      "source": [
        "import csv\n",
        "headerfile = open('header.txt', 'r')\n",
        "reader = csv.reader(headerfile)\n",
        "allrows = [row for row in reader]\n",
        "cols_name = allrows[0]\n",
        "cols_name"
      ],
      "execution_count": null,
      "outputs": [
        {
          "output_type": "execute_result",
          "data": {
            "text/plain": [
              "['periodo',\n",
              " 'id_cli',\n",
              " 'fecha_nacimiento',\n",
              " 'edad',\n",
              " 'genero',\n",
              " 'estado_civil',\n",
              " 'nivel_academico',\n",
              " 'profesion',\n",
              " 'ocupacion',\n",
              " 'tipo_vivienda',\n",
              " 'ult_actual',\n",
              " 'categoria',\n",
              " 'codigo_ciiu',\n",
              " 'ind_mora_vigente',\n",
              " 'cartera_castigada',\n",
              " 'ciudad_residencia',\n",
              " 'departamento_residencia',\n",
              " 'ciudad_laboral',\n",
              " 'departamento_laboral',\n",
              " 'rechazo_credito',\n",
              " 'mora_max',\n",
              " 'cant_moras_30_ult_12_meses',\n",
              " 'cant_moras_60_ult_12_meses',\n",
              " 'cant_moras_90_ult_12_meses',\n",
              " 'cupo_total_tc',\n",
              " 'tenencia_tc',\n",
              " 'cuota_tc_bancolombia',\n",
              " 'tiene_consumo',\n",
              " 'tiene_crediagil',\n",
              " 'nro_tot_cuentas',\n",
              " 'ctas_activas',\n",
              " 'tiene_ctas_activas',\n",
              " 'ctas_embargadas',\n",
              " 'tiene_ctas_embargadas',\n",
              " 'pension_fopep',\n",
              " 'cuota_cred_hipot',\n",
              " 'tiene_cred_hipo_1',\n",
              " 'tiene_cred_hipo_2',\n",
              " 'mediana_nom3',\n",
              " 'mediana_pen3',\n",
              " 'ingreso_nompen',\n",
              " 'cat_ingreso',\n",
              " 'ingreso_final',\n",
              " 'cant_mora_30_tdc_ult_3m_sf',\n",
              " 'cant_mora_30_consum_ult_3m_sf',\n",
              " 'cuota_de_vivienda',\n",
              " 'cuota_de_consumo',\n",
              " 'cuota_rotativos',\n",
              " 'cuota_tarjeta_de_credito',\n",
              " 'cuota_de_sector_solidario',\n",
              " 'cuota_sector_real_comercio',\n",
              " 'cupo_tc_mdo',\n",
              " 'saldo_prom3_tdc_mdo',\n",
              " 'cuota_tc_mdo',\n",
              " 'saldo_no_rot_mdo',\n",
              " 'cuota_libranza_sf',\n",
              " 'cant_oblig_tot_sf',\n",
              " 'cant_cast_ult_12m_sr',\n",
              " 'ind',\n",
              " 'rep_calif_cred',\n",
              " 'pol_centr_ext',\n",
              " 'convenio_lib',\n",
              " 'ingreso_nomina',\n",
              " 'ingreso_segurida_social',\n",
              " 'gasto_familiar']"
            ]
          },
          "metadata": {
            "tags": []
          },
          "execution_count": 2
        }
      ]
    },
    {
      "cell_type": "markdown",
      "metadata": {
        "id": "a7W98iJO1b9e"
      },
      "source": [
        "cols_type = {'periodo': int64,\n",
        "             'id_cli': int64,\n",
        "             'fecha_nacimiento': int64,\n",
        "             'edad': float64,\n",
        "             'genero': object, 'estado_civil': object,\n",
        "             'nivel_academico': object,\n",
        "             'profesion': object,\n",
        "             'ocupacion': object,\n",
        "             'tipo_vivienda': object,\n",
        "             'ult_actual': int64,\n",
        "             'categoria': int64,\n",
        "             'codigo_ciiu': int64,\n",
        "             'ind_mora_vigente': object,\n",
        "             'cartera_castigada': object,\n",
        "             'ciudad_residencia': object,\n",
        "             'departamento_residencia': object,\n",
        "             'ciudad_laboral': object,\n",
        "             'departamento_laboral': object,\n",
        "             'rechazo_credito': object,\n",
        "             'mora_max': int64,\n",
        "             'cant_moras_30_ult_12_meses': int64,\n",
        "             'cant_moras_60_ult_12_meses': int64,\n",
        "             'cant_moras_90_ult_12_meses': int64,\n",
        "             'cupo_total_tc': float64,\n",
        "             'tenencia_tc': object,\n",
        "             'cuota_tc_bancolombia': float64,\n",
        "             'tiene_consumo': object,\n",
        "             'tiene_crediagil': object,\n",
        "             'nro_tot_cuentas': int64,\n",
        "             'ctas_activas': int64,\n",
        "             'tiene_ctas_activas': object,\n",
        "             'ctas_embargadas': int64,\n",
        "             'tiene_ctas_embargadas': object,\n",
        "             'pension_fopep': object,\n",
        "             'cuota_cred_hipot': float64,\n",
        "             'tiene_cred_hipo_1': object,\n",
        "             'tiene_cred_hipo_2': object,\n",
        "             'mediana_nom3': float64,\n",
        "             'mediana_pen3': float64,\n",
        "             'ingreso_nompen': float64,\n",
        "             'cat_ingreso': object,\n",
        "             'ingreso_final': float64,\n",
        "             'cant_mora_30_tdc_ult_3m_sf': float64,\n",
        "             'cant_mora_30_consum_ult_3m_sf': float64,\n",
        "             'cuota_de_vivienda': float64,\n",
        "             'cuota_de_consumo': float64,\n",
        "             'cuota_rotativos': float64,\n",
        "             'cuota_tarjeta_de_credito': float64,\n",
        "             'cuota_de_sector_solidario': float64,\n",
        "             'cuota_sector_real_comercio': float64,\n",
        "             'cupo_tc_mdo': float64,\n",
        "             'saldo_prom3_tdc_mdo': float64,\n",
        "             'cuota_tc_mdo': float64,\n",
        "             'saldo_no_rot_mdo': float64,\n",
        "             'cuota_libranza_sf': float64,\n",
        "             'cant_oblig_tot_sf': float64,\n",
        "             'cant_cast_ult_12m_sr': float64,\n",
        "             'ind': float64,\n",
        "             'rep_calif_cred': object,\n",
        "             'pol_centr_ext': float64,\n",
        "             'convenio_lib': object,\n",
        "             'ingreso_nomina': float64,\n",
        "             'ingreso_segurida_social': int64,\n",
        "             'gasto_familiar': float64}"
      ]
    },
    {
      "cell_type": "code",
      "metadata": {
        "id": "4FiOHPnr1b9g",
        "outputId": "8f125a21-ac12-40f7-b5d4-02d216ab4286"
      },
      "source": [
        "df = pd.read_csv('Dataton_train_semicolon.csv', sep=';', names=cols_name, low_memory=False)\n",
        "df.shape"
      ],
      "execution_count": null,
      "outputs": [
        {
          "output_type": "execute_result",
          "data": {
            "text/plain": [
              "(20988748, 65)"
            ]
          },
          "metadata": {
            "tags": []
          },
          "execution_count": 3
        }
      ]
    },
    {
      "cell_type": "code",
      "metadata": {
        "id": "iB6NeUIT1b9h"
      },
      "source": [
        "# Convirtiendo los \\\\N de 'edad' en 0.0\n",
        "\n",
        "df['edad'] = pd.to_numeric(df['edad'], errors='coerce')\n",
        "df['edad'] = df['edad'].replace(np.nan, 0, regex=True)"
      ],
      "execution_count": null,
      "outputs": []
    },
    {
      "cell_type": "code",
      "metadata": {
        "id": "UPG4_Vrn1b9h",
        "outputId": "4667d9a6-493e-4ff4-dcd9-d0898c2297ac"
      },
      "source": [
        "# Eliminando los datos con 'edad' < 18 \n",
        "\n",
        "indexAges = df[(df['edad'] < 18)].index\n",
        "df.drop(indexAges , inplace=True)\n",
        "df.shape"
      ],
      "execution_count": null,
      "outputs": [
        {
          "output_type": "execute_result",
          "data": {
            "text/plain": [
              "(20982552, 65)"
            ]
          },
          "metadata": {
            "tags": []
          },
          "execution_count": 5
        }
      ]
    },
    {
      "cell_type": "code",
      "metadata": {
        "id": "CCpjrk0z1b9i",
        "outputId": "573cd7ee-788e-4c0e-b116-e9647b2410a5"
      },
      "source": [
        "# Eliminar las filas que contienen los \\\\N\n",
        "\n",
        "# Primero convertir los \\\\N a NaN\n",
        "df['categoria'] = pd.to_numeric(df['categoria'], errors='coerce')\n",
        "df['nro_tot_cuentas'] = pd.to_numeric(df['nro_tot_cuentas'], errors='coerce')\n",
        "df['ctas_activas'] = pd.to_numeric(df['ctas_activas'], errors='coerce')\n",
        "df['ctas_embargadas'] = pd.to_numeric(df['ctas_embargadas'], errors='coerce')\n",
        "df['ingreso_final'] = pd.to_numeric(df['ingreso_final'], errors='coerce')\n",
        "df['ind'] = pd.to_numeric(df['ind'], errors='coerce')\n",
        "\n",
        "# Luego eliminar los NaN\n",
        "\n",
        "df.drop(df[df.nro_tot_cuentas.isnull()].index, inplace = True)\n",
        "df.drop(df[df.ctas_activas.isnull()].index, inplace = True)\n",
        "df.drop(df[df.ctas_embargadas.isnull()].index, inplace = True)\n",
        "df.drop(df[df.ingreso_final.isnull()].index, inplace = True)\n",
        "df.drop(df[df.ind.isnull()].index, inplace = True)\n",
        "\n",
        "df.shape"
      ],
      "execution_count": null,
      "outputs": [
        {
          "output_type": "execute_result",
          "data": {
            "text/plain": [
              "(20823707, 65)"
            ]
          },
          "metadata": {
            "tags": []
          },
          "execution_count": 6
        }
      ]
    },
    {
      "cell_type": "code",
      "metadata": {
        "id": "uyuU0lRt1b9j",
        "outputId": "ccb389f3-f4ee-4cff-dd9c-087cf5eac12d"
      },
      "source": [
        "# Convertir los \\\\N  en 0\n",
        "\n",
        "# Primero convertir los \\\\N a NaN\n",
        "df['mora_max'] = pd.to_numeric(df['mora_max'], errors='coerce')\n",
        "df['cant_moras_30_ult_12_meses'] = pd.to_numeric(df['cant_moras_30_ult_12_meses'], errors='coerce')\n",
        "df['cant_moras_60_ult_12_meses'] = pd.to_numeric(df['cant_moras_60_ult_12_meses'], errors='coerce')\n",
        "df['cant_moras_90_ult_12_meses'] = pd.to_numeric(df['cant_moras_90_ult_12_meses'], errors='coerce')\n",
        "df['cuota_cred_hipot'] = pd.to_numeric(df['cuota_cred_hipot'], errors='coerce')\n",
        "df['cant_mora_30_tdc_ult_3m_sf'] = pd.to_numeric(df['cant_mora_30_tdc_ult_3m_sf'], errors='coerce')\n",
        "df['cant_mora_30_consum_ult_3m_sf'] = pd.to_numeric(df['cant_mora_30_consum_ult_3m_sf'], errors='coerce')\n",
        "df['cant_oblig_tot_sf'] = pd.to_numeric(df['cant_oblig_tot_sf'], errors='coerce')\n",
        "df['cant_cast_ult_12m_sr'] = pd.to_numeric(df['cant_cast_ult_12m_sr'], errors='coerce')\n",
        "df['pol_centr_ext'] = pd.to_numeric(df['pol_centr_ext'], errors='coerce')\n",
        "df['ingreso_nomina'] = pd.to_numeric(df['ingreso_nomina'], errors='coerce')\n",
        "df['ingreso_segurida_social'] = pd.to_numeric(df['ingreso_segurida_social'], errors='coerce')\n",
        "\n",
        "# Convirtiendo los NaN en 0\n",
        "df['categoria'] = df['categoria'].replace(np.nan, 0, regex=True)\n",
        "df['mora_max'] = df['mora_max'].replace(np.nan, 0, regex=True)\n",
        "df['cant_moras_30_ult_12_meses'] = df['cant_moras_30_ult_12_meses'].replace(np.nan, 0, regex=True)\n",
        "df['cant_moras_60_ult_12_meses'] = df['cant_moras_60_ult_12_meses'].replace(np.nan, 0, regex=True)\n",
        "df['cant_moras_90_ult_12_meses'] = df['cant_moras_90_ult_12_meses'].replace(np.nan, 0, regex=True)\n",
        "df['cuota_cred_hipot'] = df['cuota_cred_hipot'].replace(np.nan, 0, regex=True)\n",
        "df['cant_mora_30_tdc_ult_3m_sf'] = df['cant_mora_30_tdc_ult_3m_sf'].replace(np.nan, 0, regex=True)\n",
        "df['cant_mora_30_consum_ult_3m_sf'] = df['cant_mora_30_consum_ult_3m_sf'].replace(np.nan, 0, regex=True)\n",
        "df['cant_oblig_tot_sf'] = df['cant_oblig_tot_sf'].replace(np.nan, 0, regex=True)\n",
        "df['cant_cast_ult_12m_sr'] = df['cant_cast_ult_12m_sr'].replace(np.nan, 0, regex=True)\n",
        "df['pol_centr_ext'] = df['pol_centr_ext'].replace(np.nan, 0, regex=True)\n",
        "df['ingreso_nomina'] = df['ingreso_nomina'].replace(np.nan, 0, regex=True)\n",
        "df['ingreso_segurida_social'] = df['ingreso_segurida_social'].replace(np.nan, 0, regex=True)\n",
        "\n",
        "df.shape"
      ],
      "execution_count": null,
      "outputs": [
        {
          "output_type": "execute_result",
          "data": {
            "text/plain": [
              "(20823707, 65)"
            ]
          },
          "metadata": {
            "tags": []
          },
          "execution_count": 7
        }
      ]
    },
    {
      "cell_type": "code",
      "metadata": {
        "id": "_wM5z19J1b9k",
        "outputId": "f2717df8-b7f3-439a-d19c-4044d42681a7"
      },
      "source": [
        "# Convertir de int64 a float64\n",
        "df['cuota_rotativos'] = df['cuota_rotativos'].astype('float64')\n",
        "df['cuota_tarjeta_de_credito'] = df['cuota_tarjeta_de_credito'].astype('float64')\n",
        "df['cuota_de_sector_solidario'] = df['cuota_de_sector_solidario'].astype('float64')\n",
        "df['cuota_sector_real_comercio'] = df['cuota_sector_real_comercio'].astype('float64')\n",
        "df['cupo_tc_mdo'] = df['cupo_tc_mdo'].astype('float64')\n",
        "df['cuota_tc_mdo'] = df['cuota_tc_mdo'].astype('float64')\n",
        "df['saldo_no_rot_mdo'] = df['saldo_no_rot_mdo'].astype('float64')\n",
        "df['cuota_libranza_sf'] = df['cuota_libranza_sf'].astype('float64')\n",
        "\n",
        "# Convertir de float64 a int64\n",
        "df['categoria'] = df['categoria'].astype('int64')\n",
        "df['mora_max'] = df['mora_max'].astype('int64')\n",
        "df['cant_moras_30_ult_12_meses'] = df['cant_moras_30_ult_12_meses'].astype('int64')\n",
        "df['cant_moras_60_ult_12_meses'] = df['cant_moras_60_ult_12_meses'].astype('int64')\n",
        "df['cant_moras_90_ult_12_meses'] = df['cant_moras_90_ult_12_meses'].astype('int64')\n",
        "df['nro_tot_cuentas'] = df['nro_tot_cuentas'].astype('int64')\n",
        "df['ctas_activas'] = df['ctas_activas'].astype('int64')\n",
        "df['ctas_embargadas'] = df['ctas_embargadas'].astype('int64')\n",
        "df['ingreso_segurida_social'] = df['ingreso_segurida_social'].astype('int64')\n",
        "\n",
        "df.shape"
      ],
      "execution_count": null,
      "outputs": [
        {
          "output_type": "execute_result",
          "data": {
            "text/plain": [
              "(20823707, 65)"
            ]
          },
          "metadata": {
            "tags": []
          },
          "execution_count": 8
        }
      ]
    },
    {
      "cell_type": "code",
      "metadata": {
        "id": "t0SBi2uX1b9l",
        "outputId": "9e7292df-4976-45eb-8739-dd9eb726c9e6"
      },
      "source": [
        "pd.set_option('display.max_rows', 65)\n",
        "df.dtypes"
      ],
      "execution_count": null,
      "outputs": [
        {
          "output_type": "execute_result",
          "data": {
            "text/plain": [
              "periodo                            int64\n",
              "id_cli                             int64\n",
              "fecha_nacimiento                   int64\n",
              "edad                             float64\n",
              "genero                            object\n",
              "estado_civil                      object\n",
              "nivel_academico                   object\n",
              "profesion                         object\n",
              "ocupacion                         object\n",
              "tipo_vivienda                     object\n",
              "ult_actual                         int64\n",
              "categoria                          int64\n",
              "codigo_ciiu                        int64\n",
              "ind_mora_vigente                  object\n",
              "cartera_castigada                 object\n",
              "ciudad_residencia                 object\n",
              "departamento_residencia           object\n",
              "ciudad_laboral                    object\n",
              "departamento_laboral              object\n",
              "rechazo_credito                   object\n",
              "mora_max                           int64\n",
              "cant_moras_30_ult_12_meses         int64\n",
              "cant_moras_60_ult_12_meses         int64\n",
              "cant_moras_90_ult_12_meses         int64\n",
              "cupo_total_tc                    float64\n",
              "tenencia_tc                       object\n",
              "cuota_tc_bancolombia             float64\n",
              "tiene_consumo                     object\n",
              "tiene_crediagil                   object\n",
              "nro_tot_cuentas                    int64\n",
              "ctas_activas                       int64\n",
              "tiene_ctas_activas                object\n",
              "ctas_embargadas                    int64\n",
              "tiene_ctas_embargadas             object\n",
              "pension_fopep                     object\n",
              "cuota_cred_hipot                 float64\n",
              "tiene_cred_hipo_1                 object\n",
              "tiene_cred_hipo_2                 object\n",
              "mediana_nom3                     float64\n",
              "mediana_pen3                     float64\n",
              "ingreso_nompen                   float64\n",
              "cat_ingreso                       object\n",
              "ingreso_final                    float64\n",
              "cant_mora_30_tdc_ult_3m_sf       float64\n",
              "cant_mora_30_consum_ult_3m_sf    float64\n",
              "cuota_de_vivienda                float64\n",
              "cuota_de_consumo                 float64\n",
              "cuota_rotativos                  float64\n",
              "cuota_tarjeta_de_credito         float64\n",
              "cuota_de_sector_solidario        float64\n",
              "cuota_sector_real_comercio       float64\n",
              "cupo_tc_mdo                      float64\n",
              "saldo_prom3_tdc_mdo              float64\n",
              "cuota_tc_mdo                     float64\n",
              "saldo_no_rot_mdo                 float64\n",
              "cuota_libranza_sf                float64\n",
              "cant_oblig_tot_sf                float64\n",
              "cant_cast_ult_12m_sr             float64\n",
              "ind                              float64\n",
              "rep_calif_cred                    object\n",
              "pol_centr_ext                    float64\n",
              "convenio_lib                      object\n",
              "ingreso_nomina                   float64\n",
              "ingreso_segurida_social            int64\n",
              "gasto_familiar                   float64\n",
              "dtype: object"
            ]
          },
          "metadata": {
            "tags": []
          },
          "execution_count": 10
        }
      ]
    },
    {
      "cell_type": "code",
      "metadata": {
        "id": "BhV_8XQG1b9m"
      },
      "source": [
        "! touch final.csv"
      ],
      "execution_count": null,
      "outputs": []
    },
    {
      "cell_type": "code",
      "metadata": {
        "id": "sda3SI_11b9m",
        "outputId": "b391479d-b87a-41de-da43-cd5e7e319146"
      },
      "source": [
        "# Tomar solo las columnas numericas\n",
        "\n",
        "num = (df.dtypes == float) | (df.dtypes == int)\n",
        "num_cols = [c for c in num.index if num[c]]\n",
        "df_num = df[num_cols]\n",
        "df_num.shape"
      ],
      "execution_count": null,
      "outputs": [
        {
          "output_type": "execute_result",
          "data": {
            "text/plain": [
              "(20823707, 41)"
            ]
          },
          "metadata": {
            "tags": []
          },
          "execution_count": 17
        }
      ]
    },
    {
      "cell_type": "code",
      "metadata": {
        "id": "wq-OBICY1b9m",
        "outputId": "222ea03b-09c3-49f3-fabb-64f011bcbb62"
      },
      "source": [
        "df_num.isnull().apply(pd.Series.value_counts)"
      ],
      "execution_count": null,
      "outputs": [
        {
          "output_type": "execute_result",
          "data": {
            "text/html": [
              "<div>\n",
              "<style scoped>\n",
              "    .dataframe tbody tr th:only-of-type {\n",
              "        vertical-align: middle;\n",
              "    }\n",
              "\n",
              "    .dataframe tbody tr th {\n",
              "        vertical-align: top;\n",
              "    }\n",
              "\n",
              "    .dataframe thead th {\n",
              "        text-align: right;\n",
              "    }\n",
              "</style>\n",
              "<table border=\"1\" class=\"dataframe\">\n",
              "  <thead>\n",
              "    <tr style=\"text-align: right;\">\n",
              "      <th></th>\n",
              "      <th>periodo</th>\n",
              "      <th>id_cli</th>\n",
              "      <th>fecha_nacimiento</th>\n",
              "      <th>edad</th>\n",
              "      <th>ult_actual</th>\n",
              "      <th>categoria</th>\n",
              "      <th>codigo_ciiu</th>\n",
              "      <th>mora_max</th>\n",
              "      <th>cant_moras_30_ult_12_meses</th>\n",
              "      <th>cant_moras_60_ult_12_meses</th>\n",
              "      <th>...</th>\n",
              "      <th>cuota_tc_mdo</th>\n",
              "      <th>saldo_no_rot_mdo</th>\n",
              "      <th>cuota_libranza_sf</th>\n",
              "      <th>cant_oblig_tot_sf</th>\n",
              "      <th>cant_cast_ult_12m_sr</th>\n",
              "      <th>ind</th>\n",
              "      <th>pol_centr_ext</th>\n",
              "      <th>ingreso_nomina</th>\n",
              "      <th>ingreso_segurida_social</th>\n",
              "      <th>gasto_familiar</th>\n",
              "    </tr>\n",
              "  </thead>\n",
              "  <tbody>\n",
              "    <tr>\n",
              "      <th>False</th>\n",
              "      <td>20823707</td>\n",
              "      <td>20823707</td>\n",
              "      <td>20823707</td>\n",
              "      <td>20823707</td>\n",
              "      <td>20823707</td>\n",
              "      <td>20823707</td>\n",
              "      <td>20823707</td>\n",
              "      <td>20823707</td>\n",
              "      <td>20823707</td>\n",
              "      <td>20823707</td>\n",
              "      <td>...</td>\n",
              "      <td>20823707</td>\n",
              "      <td>20823707</td>\n",
              "      <td>20823707</td>\n",
              "      <td>20823707</td>\n",
              "      <td>20823707</td>\n",
              "      <td>20823707</td>\n",
              "      <td>20823707</td>\n",
              "      <td>20823707</td>\n",
              "      <td>20823707</td>\n",
              "      <td>20823707</td>\n",
              "    </tr>\n",
              "  </tbody>\n",
              "</table>\n",
              "<p>1 rows × 41 columns</p>\n",
              "</div>"
            ],
            "text/plain": [
              "        periodo    id_cli  fecha_nacimiento      edad  ult_actual  categoria  \\\n",
              "False  20823707  20823707          20823707  20823707    20823707   20823707   \n",
              "\n",
              "       codigo_ciiu  mora_max  cant_moras_30_ult_12_meses  \\\n",
              "False     20823707  20823707                    20823707   \n",
              "\n",
              "       cant_moras_60_ult_12_meses  ...  cuota_tc_mdo  saldo_no_rot_mdo  \\\n",
              "False                    20823707  ...      20823707          20823707   \n",
              "\n",
              "       cuota_libranza_sf  cant_oblig_tot_sf  cant_cast_ult_12m_sr       ind  \\\n",
              "False           20823707           20823707              20823707  20823707   \n",
              "\n",
              "       pol_centr_ext  ingreso_nomina  ingreso_segurida_social  gasto_familiar  \n",
              "False       20823707        20823707                 20823707        20823707  \n",
              "\n",
              "[1 rows x 41 columns]"
            ]
          },
          "metadata": {
            "tags": []
          },
          "execution_count": 18
        }
      ]
    },
    {
      "cell_type": "code",
      "metadata": {
        "id": "QVoJ8FM_1b9n"
      },
      "source": [
        "df.genero = df.genero.replace({'F': 1, 'M': 2, ' ': 0})"
      ],
      "execution_count": null,
      "outputs": []
    },
    {
      "cell_type": "code",
      "metadata": {
        "id": "FMaS_ReH1b9n",
        "outputId": "7cdd0a1b-0302-445b-c01b-994bd6a7000d"
      },
      "source": [
        "df['genero'].unique()"
      ],
      "execution_count": null,
      "outputs": [
        {
          "output_type": "execute_result",
          "data": {
            "text/plain": [
              "array([2, 1, 0])"
            ]
          },
          "metadata": {
            "tags": []
          },
          "execution_count": 72
        }
      ]
    },
    {
      "cell_type": "code",
      "metadata": {
        "id": "1DRK3gv61b9o",
        "outputId": "7ecaf803-ee8c-40ad-af90-ba832347d86b"
      },
      "source": [
        "# Eliminando los generos == 0\n",
        "\n",
        "indexGender = df[(df['genero'] == 0)].index\n",
        "df.drop(indexGender , inplace=True)\n",
        "df.shape"
      ],
      "execution_count": null,
      "outputs": [
        {
          "output_type": "execute_result",
          "data": {
            "text/plain": [
              "(20823626, 65)"
            ]
          },
          "metadata": {
            "tags": []
          },
          "execution_count": 73
        }
      ]
    },
    {
      "cell_type": "code",
      "metadata": {
        "id": "ufTJXaR61b9o"
      },
      "source": [
        "df.estado_civil = df.estado_civil.replace({'DIVORCIADO': 1, 'UNION LIBRE': 2, 'SOLTERO': 3, 'NO INFORMA': 4, 'CASADO': 5, 'VIUDO': 6, '\\\\N': 4, 'OTRO': 4})"
      ],
      "execution_count": null,
      "outputs": []
    },
    {
      "cell_type": "code",
      "metadata": {
        "id": "hYDlswFT1b9o",
        "outputId": "beaf2efd-70dc-4509-c99b-4102e2556408"
      },
      "source": [
        "df['estado_civil'].unique()"
      ],
      "execution_count": null,
      "outputs": [
        {
          "output_type": "execute_result",
          "data": {
            "text/plain": [
              "array([1, 2, 3, 4, 5, 6])"
            ]
          },
          "metadata": {
            "tags": []
          },
          "execution_count": 77
        }
      ]
    },
    {
      "cell_type": "code",
      "metadata": {
        "id": "n0D2lbFe1b9p"
      },
      "source": [
        "df.nivel_academico = df.nivel_academico.replace({'TECNOLOGO': 1, 'UNIVERSITARIO': 2, 'BACHILLER': 3, 'NO INFORMA': 4, 'SIN INFORMACION': 4, 'ESPECIALIZACION': 5, 'PRIMARIO': 6, 'NINGUNO': 4})"
      ],
      "execution_count": null,
      "outputs": []
    },
    {
      "cell_type": "code",
      "metadata": {
        "id": "AYApPARX1b9p",
        "outputId": "288292b0-9b9e-4224-e295-dc1f636f8740"
      },
      "source": [
        "df['nivel_academico'].unique()"
      ],
      "execution_count": null,
      "outputs": [
        {
          "output_type": "execute_result",
          "data": {
            "text/plain": [
              "array([1, 2, 4, 3, 5, 6])"
            ]
          },
          "metadata": {
            "tags": []
          },
          "execution_count": 80
        }
      ]
    },
    {
      "cell_type": "code",
      "metadata": {
        "id": "2kJa3pVS1b9p"
      },
      "source": [
        "df.tipo_vivienda = df.tipo_vivienda.replace({'ALQUILADA': 1, 'FAMILIAR': 2, 'PROPIA': 3, 'NO INFORMA': 4, '\\\\N': 4})"
      ],
      "execution_count": null,
      "outputs": []
    },
    {
      "cell_type": "code",
      "metadata": {
        "id": "suYJAddc1b9q",
        "outputId": "29526512-c698-4ce8-f9f9-04a70b0e9b71"
      },
      "source": [
        "df['tipo_vivienda'].unique()"
      ],
      "execution_count": null,
      "outputs": [
        {
          "output_type": "execute_result",
          "data": {
            "text/plain": [
              "array([1, 4, 2, 3])"
            ]
          },
          "metadata": {
            "tags": []
          },
          "execution_count": 83
        }
      ]
    },
    {
      "cell_type": "code",
      "metadata": {
        "id": "fP7CbOOS1b9q"
      },
      "source": [
        "df.tenencia_tc = df.tenencia_tc.replace({'NO': 1, 'SI': 2})"
      ],
      "execution_count": null,
      "outputs": []
    },
    {
      "cell_type": "code",
      "metadata": {
        "id": "7Iz0G-tN1b9r",
        "outputId": "980f10cf-c87b-4c08-93d4-053809cdbbb7"
      },
      "source": [
        "df['tenencia_tc'].unique()"
      ],
      "execution_count": null,
      "outputs": [
        {
          "output_type": "execute_result",
          "data": {
            "text/plain": [
              "array([1, 2])"
            ]
          },
          "metadata": {
            "tags": []
          },
          "execution_count": 87
        }
      ]
    },
    {
      "cell_type": "code",
      "metadata": {
        "id": "mrLiLdew1b9r"
      },
      "source": [
        "df.cat_ingreso = df.cat_ingreso.replace({'NOM': 1, 'PEN': 2, 'NOM PEN': 3, '\\\\N': 4})"
      ],
      "execution_count": null,
      "outputs": []
    },
    {
      "cell_type": "code",
      "metadata": {
        "id": "KMhkubzq1b9r",
        "outputId": "63a92b5f-215a-40cf-dd21-0aad46d8ea30"
      },
      "source": [
        "df['cat_ingreso'].unique()"
      ],
      "execution_count": null,
      "outputs": [
        {
          "output_type": "execute_result",
          "data": {
            "text/plain": [
              "array([1, 4, 2, 3])"
            ]
          },
          "metadata": {
            "tags": []
          },
          "execution_count": 90
        }
      ]
    },
    {
      "cell_type": "code",
      "metadata": {
        "id": "Te_F3jZD1b9s",
        "outputId": "cec2645e-4b9d-4dc3-b877-20502a1a698f"
      },
      "source": [
        "x_train = df.loc[:, ['periodo', 'id_cli', 'edad', 'categoria', 'mora_max',\n",
        "                     'nro_tot_cuentas', 'ctas_activas', 'ctas_embargadas',\n",
        "                     'ingreso_nompen', 'ind',\n",
        "                     'ingreso_nomina', 'ingreso_segurida_social', 'genero',\n",
        "                     'estado_civil', 'nivel_academico', 'tipo_vivienda',\n",
        "                     'tenencia_tc', 'cat_ingreso'\n",
        "                    ]].values\n",
        "\n",
        "# y = gasto_familiar\n",
        "y_train = df.loc[:, ['gasto_familiar']].values\n",
        "\n",
        "x_train.shape"
      ],
      "execution_count": null,
      "outputs": [
        {
          "output_type": "execute_result",
          "data": {
            "text/plain": [
              "(20823626, 18)"
            ]
          },
          "metadata": {
            "tags": []
          },
          "execution_count": 91
        }
      ]
    },
    {
      "cell_type": "code",
      "metadata": {
        "id": "bHUaCTJe1b9s"
      },
      "source": [
        "from sklearn.linear_model import LinearRegression"
      ],
      "execution_count": null,
      "outputs": []
    },
    {
      "cell_type": "code",
      "metadata": {
        "id": "sq21GXYr1b9s",
        "outputId": "961bd4b3-2fa9-47e9-cca1-abab5c4f1512"
      },
      "source": [
        "reg = LinearRegression()\n",
        "reg.fit(x_train, y_train)"
      ],
      "execution_count": null,
      "outputs": [
        {
          "output_type": "execute_result",
          "data": {
            "text/plain": [
              "LinearRegression()"
            ]
          },
          "metadata": {
            "tags": []
          },
          "execution_count": 93
        }
      ]
    },
    {
      "cell_type": "code",
      "metadata": {
        "id": "CnHrVSgv1b9t",
        "outputId": "21f09657-741e-4761-dcef-7edac8d2b1ec"
      },
      "source": [
        "df_base.genero = df_base.genero.replace({'F': 1, 'M': 2, ' ': 0})\n",
        "# Eliminando los generos == 0\n",
        "\n",
        "indexGender = df_base[(df_base['genero'] == 0)].index\n",
        "df_base.drop(indexGender , inplace=True)\n",
        "df_base.shape"
      ],
      "execution_count": null,
      "outputs": [
        {
          "output_type": "execute_result",
          "data": {
            "text/plain": [
              "(281666, 65)"
            ]
          },
          "metadata": {
            "tags": []
          },
          "execution_count": 94
        }
      ]
    },
    {
      "cell_type": "code",
      "metadata": {
        "id": "Fitt9tL21b9t"
      },
      "source": [
        "df_base.estado_civil = df_base.estado_civil.replace({'DIVORCIADO': 1, 'UNION LIBRE': 2, 'SOLTERO': 3, 'NO INFORMA': 4, 'CASADO': 5, 'VIUDO': 6, '\\\\N': 4, 'OTRO': 4})\n",
        "df_base.nivel_academico = df_base.nivel_academico.replace({'TECNOLOGO': 1, 'UNIVERSITARIO': 2, 'BACHILLER': 3, 'NO INFORMA': 4, 'SIN INFORMACION': 4, 'ESPECIALIZACION': 5, 'PRIMARIO': 6, 'NINGUNO': 4})\n",
        "df_base.tipo_vivienda = df_base.tipo_vivienda.replace({'ALQUILADA': 1, 'FAMILIAR': 2, 'PROPIA': 3, 'NO INFORMA': 4, '\\\\N': 4})\n",
        "df_base.tenencia_tc = df_base.tenencia_tc.replace({'NO': 1, 'SI': 2})\n",
        "df_base.cat_ingreso = df_base.cat_ingreso.replace({'NOM': 1, 'PEN': 2, 'NOM PEN': 3, '\\\\N': 4})"
      ],
      "execution_count": null,
      "outputs": []
    },
    {
      "cell_type": "code",
      "metadata": {
        "id": "H2tQY1iU1b9u"
      },
      "source": [
        "df_base['ind'] = df_base['ind'].replace(np.nan, 0, regex=True)\n",
        "df_base['ingreso_nomina'] = df_base['ingreso_nomina'].replace(np.nan, 0, regex=True)\n",
        "df_base['estado_civil'] = df_base['ingreso_nomina'].replace(np.nan, 0, regex=True)\n",
        "df_base['tipo_vivienda'] = df_base['tipo_vivienda'].replace(np.nan, 0, regex=True)\n",
        "df_base['cat_ingreso'] = df_base['cat_ingreso'].replace(np.nan, 0, regex=True)"
      ],
      "execution_count": null,
      "outputs": []
    },
    {
      "cell_type": "code",
      "metadata": {
        "id": "tN8bAGeu1b9u",
        "outputId": "b152e016-6097-453f-b12e-602cdb11f5a0"
      },
      "source": [
        "df_base['cat_ingreso'].unique()"
      ],
      "execution_count": null,
      "outputs": [
        {
          "output_type": "execute_result",
          "data": {
            "text/plain": [
              "array([nan,  1.,  2.,  3.])"
            ]
          },
          "metadata": {
            "tags": []
          },
          "execution_count": 108
        }
      ]
    },
    {
      "cell_type": "code",
      "metadata": {
        "id": "Qc2VvTLR1b9u",
        "outputId": "fe122326-2dde-4e07-e4b9-1195e96f4183"
      },
      "source": [
        "x_test = df_base.loc[:, ['periodo', 'id_cli', 'edad', 'categoria', 'mora_max',\n",
        "                     'nro_tot_cuentas', 'ctas_activas', 'ctas_embargadas',\n",
        "                     'ingreso_nompen', 'ind',\n",
        "                     'ingreso_nomina', 'ingreso_segurida_social', 'genero',\n",
        "                     'estado_civil', 'nivel_academico', 'tipo_vivienda',\n",
        "                     'tenencia_tc', 'cat_ingreso'\n",
        "                    ]].values\n",
        "\n",
        "x_test.shape"
      ],
      "execution_count": null,
      "outputs": [
        {
          "output_type": "execute_result",
          "data": {
            "text/plain": [
              "(281666, 18)"
            ]
          },
          "metadata": {
            "tags": []
          },
          "execution_count": 111
        }
      ]
    },
    {
      "cell_type": "code",
      "metadata": {
        "id": "nh8ejRtY1b9u"
      },
      "source": [
        "y_predict = reg.predict(x_test)"
      ],
      "execution_count": null,
      "outputs": []
    },
    {
      "cell_type": "code",
      "metadata": {
        "id": "Z0s5xbAd1b9v",
        "outputId": "31244a1a-b2bb-4bec-d489-9f3c1db1ac1c"
      },
      "source": [
        "y_test = pd.DataFrame(y_predict)\n",
        "y_test.columns = ['gasto_familiar']\n",
        "result = pd.concat([df_base_num, y_test],axis=1)\n",
        "final = result.loc[:, ['id_registro', 'gasto_familiar']]\n",
        "final.head()"
      ],
      "execution_count": null,
      "outputs": [
        {
          "output_type": "execute_result",
          "data": {
            "text/html": [
              "<div>\n",
              "<style scoped>\n",
              "    .dataframe tbody tr th:only-of-type {\n",
              "        vertical-align: middle;\n",
              "    }\n",
              "\n",
              "    .dataframe tbody tr th {\n",
              "        vertical-align: top;\n",
              "    }\n",
              "\n",
              "    .dataframe thead th {\n",
              "        text-align: right;\n",
              "    }\n",
              "</style>\n",
              "<table border=\"1\" class=\"dataframe\">\n",
              "  <thead>\n",
              "    <tr style=\"text-align: right;\">\n",
              "      <th></th>\n",
              "      <th>id_registro</th>\n",
              "      <th>gasto_familiar</th>\n",
              "    </tr>\n",
              "  </thead>\n",
              "  <tbody>\n",
              "    <tr>\n",
              "      <th>0</th>\n",
              "      <td>12154#201902</td>\n",
              "      <td>3.760235e+05</td>\n",
              "    </tr>\n",
              "    <tr>\n",
              "      <th>1</th>\n",
              "      <td>374#201902</td>\n",
              "      <td>1.607585e+05</td>\n",
              "    </tr>\n",
              "    <tr>\n",
              "      <th>2</th>\n",
              "      <td>7365#201902</td>\n",
              "      <td>6.262489e+04</td>\n",
              "    </tr>\n",
              "    <tr>\n",
              "      <th>3</th>\n",
              "      <td>16314#201902</td>\n",
              "      <td>5.418642e+05</td>\n",
              "    </tr>\n",
              "    <tr>\n",
              "      <th>4</th>\n",
              "      <td>19374#201902</td>\n",
              "      <td>1.071026e+06</td>\n",
              "    </tr>\n",
              "  </tbody>\n",
              "</table>\n",
              "</div>"
            ],
            "text/plain": [
              "    id_registro  gasto_familiar\n",
              "0  12154#201902    3.760235e+05\n",
              "1    374#201902    1.607585e+05\n",
              "2   7365#201902    6.262489e+04\n",
              "3  16314#201902    5.418642e+05\n",
              "4  19374#201902    1.071026e+06"
            ]
          },
          "metadata": {
            "tags": []
          },
          "execution_count": 113
        }
      ]
    },
    {
      "cell_type": "code",
      "metadata": {
        "id": "1Qr-8jSC1b9v"
      },
      "source": [
        "final.to_csv('final1.csv', index = False)"
      ],
      "execution_count": null,
      "outputs": []
    },
    {
      "cell_type": "code",
      "metadata": {
        "id": "RtsHfsGL1b9v"
      },
      "source": [
        ""
      ],
      "execution_count": null,
      "outputs": []
    },
    {
      "cell_type": "code",
      "metadata": {
        "id": "d5H9wJ5z1b9w"
      },
      "source": [
        ""
      ],
      "execution_count": null,
      "outputs": []
    },
    {
      "cell_type": "code",
      "metadata": {
        "id": "35fERLnO1b9w",
        "outputId": "a3ed2f2f-0318-464d-befa-86f7d20e5e7e"
      },
      "source": [
        "# Tomar solo las columnas numericas\n",
        "\n",
        "num = (df.dtypes == float) | (df.dtypes == int)\n",
        "num_cols = [c for c in num.index if num[c]]\n",
        "df_num = df[num_cols]"
      ],
      "execution_count": null,
      "outputs": [
        {
          "output_type": "execute_result",
          "data": {
            "text/html": [
              "<div>\n",
              "<style scoped>\n",
              "    .dataframe tbody tr th:only-of-type {\n",
              "        vertical-align: middle;\n",
              "    }\n",
              "\n",
              "    .dataframe tbody tr th {\n",
              "        vertical-align: top;\n",
              "    }\n",
              "\n",
              "    .dataframe thead th {\n",
              "        text-align: right;\n",
              "    }\n",
              "</style>\n",
              "<table border=\"1\" class=\"dataframe\">\n",
              "  <thead>\n",
              "    <tr style=\"text-align: right;\">\n",
              "      <th></th>\n",
              "      <th>periodo</th>\n",
              "      <th>id_cli</th>\n",
              "      <th>fecha_nacimiento</th>\n",
              "      <th>edad</th>\n",
              "      <th>genero</th>\n",
              "      <th>estado_civil</th>\n",
              "      <th>nivel_academico</th>\n",
              "      <th>tipo_vivienda</th>\n",
              "      <th>ult_actual</th>\n",
              "      <th>categoria</th>\n",
              "      <th>...</th>\n",
              "      <th>cuota_tc_mdo</th>\n",
              "      <th>saldo_no_rot_mdo</th>\n",
              "      <th>cuota_libranza_sf</th>\n",
              "      <th>cant_oblig_tot_sf</th>\n",
              "      <th>cant_cast_ult_12m_sr</th>\n",
              "      <th>ind</th>\n",
              "      <th>pol_centr_ext</th>\n",
              "      <th>ingreso_nomina</th>\n",
              "      <th>ingreso_segurida_social</th>\n",
              "      <th>gasto_familiar</th>\n",
              "    </tr>\n",
              "  </thead>\n",
              "  <tbody>\n",
              "    <tr>\n",
              "      <th>0</th>\n",
              "      <td>201908</td>\n",
              "      <td>2089776</td>\n",
              "      <td>19840630</td>\n",
              "      <td>35.058179</td>\n",
              "      <td>2</td>\n",
              "      <td>1</td>\n",
              "      <td>1</td>\n",
              "      <td>1</td>\n",
              "      <td>20180526</td>\n",
              "      <td>1</td>\n",
              "      <td>...</td>\n",
              "      <td>0.0</td>\n",
              "      <td>903000.0</td>\n",
              "      <td>0.0</td>\n",
              "      <td>1.0</td>\n",
              "      <td>0.0</td>\n",
              "      <td>311715.5</td>\n",
              "      <td>0.0</td>\n",
              "      <td>1255032.0</td>\n",
              "      <td>0</td>\n",
              "      <td>232526.0</td>\n",
              "    </tr>\n",
              "    <tr>\n",
              "      <th>1</th>\n",
              "      <td>201909</td>\n",
              "      <td>2089776</td>\n",
              "      <td>19840630</td>\n",
              "      <td>35.143053</td>\n",
              "      <td>2</td>\n",
              "      <td>1</td>\n",
              "      <td>1</td>\n",
              "      <td>1</td>\n",
              "      <td>20180526</td>\n",
              "      <td>1</td>\n",
              "      <td>...</td>\n",
              "      <td>0.0</td>\n",
              "      <td>903000.0</td>\n",
              "      <td>0.0</td>\n",
              "      <td>1.0</td>\n",
              "      <td>0.0</td>\n",
              "      <td>311715.5</td>\n",
              "      <td>0.0</td>\n",
              "      <td>1255032.0</td>\n",
              "      <td>0</td>\n",
              "      <td>265900.0</td>\n",
              "    </tr>\n",
              "    <tr>\n",
              "      <th>2</th>\n",
              "      <td>201907</td>\n",
              "      <td>2089776</td>\n",
              "      <td>19840630</td>\n",
              "      <td>34.962355</td>\n",
              "      <td>2</td>\n",
              "      <td>1</td>\n",
              "      <td>1</td>\n",
              "      <td>1</td>\n",
              "      <td>20180526</td>\n",
              "      <td>1</td>\n",
              "      <td>...</td>\n",
              "      <td>0.0</td>\n",
              "      <td>903000.0</td>\n",
              "      <td>0.0</td>\n",
              "      <td>1.0</td>\n",
              "      <td>0.0</td>\n",
              "      <td>311306.0</td>\n",
              "      <td>0.0</td>\n",
              "      <td>1255032.0</td>\n",
              "      <td>0</td>\n",
              "      <td>243052.0</td>\n",
              "    </tr>\n",
              "    <tr>\n",
              "      <th>3</th>\n",
              "      <td>201903</td>\n",
              "      <td>2089776</td>\n",
              "      <td>19840630</td>\n",
              "      <td>34.639288</td>\n",
              "      <td>2</td>\n",
              "      <td>1</td>\n",
              "      <td>1</td>\n",
              "      <td>1</td>\n",
              "      <td>20180526</td>\n",
              "      <td>1</td>\n",
              "      <td>...</td>\n",
              "      <td>0.0</td>\n",
              "      <td>2433000.0</td>\n",
              "      <td>0.0</td>\n",
              "      <td>1.0</td>\n",
              "      <td>0.0</td>\n",
              "      <td>311306.0</td>\n",
              "      <td>0.0</td>\n",
              "      <td>1172612.0</td>\n",
              "      <td>0</td>\n",
              "      <td>276014.0</td>\n",
              "    </tr>\n",
              "    <tr>\n",
              "      <th>4</th>\n",
              "      <td>201911</td>\n",
              "      <td>2089776</td>\n",
              "      <td>19840630</td>\n",
              "      <td>35.307324</td>\n",
              "      <td>2</td>\n",
              "      <td>1</td>\n",
              "      <td>1</td>\n",
              "      <td>1</td>\n",
              "      <td>20180526</td>\n",
              "      <td>1</td>\n",
              "      <td>...</td>\n",
              "      <td>0.0</td>\n",
              "      <td>0.0</td>\n",
              "      <td>0.0</td>\n",
              "      <td>0.0</td>\n",
              "      <td>0.0</td>\n",
              "      <td>677516.0</td>\n",
              "      <td>0.0</td>\n",
              "      <td>1255032.0</td>\n",
              "      <td>0</td>\n",
              "      <td>418866.0</td>\n",
              "    </tr>\n",
              "  </tbody>\n",
              "</table>\n",
              "<p>5 rows × 47 columns</p>\n",
              "</div>"
            ],
            "text/plain": [
              "   periodo   id_cli  fecha_nacimiento       edad  genero  estado_civil  \\\n",
              "0   201908  2089776          19840630  35.058179       2             1   \n",
              "1   201909  2089776          19840630  35.143053       2             1   \n",
              "2   201907  2089776          19840630  34.962355       2             1   \n",
              "3   201903  2089776          19840630  34.639288       2             1   \n",
              "4   201911  2089776          19840630  35.307324       2             1   \n",
              "\n",
              "   nivel_academico  tipo_vivienda  ult_actual  categoria  ...  cuota_tc_mdo  \\\n",
              "0                1              1    20180526          1  ...           0.0   \n",
              "1                1              1    20180526          1  ...           0.0   \n",
              "2                1              1    20180526          1  ...           0.0   \n",
              "3                1              1    20180526          1  ...           0.0   \n",
              "4                1              1    20180526          1  ...           0.0   \n",
              "\n",
              "   saldo_no_rot_mdo  cuota_libranza_sf  cant_oblig_tot_sf  \\\n",
              "0          903000.0                0.0                1.0   \n",
              "1          903000.0                0.0                1.0   \n",
              "2          903000.0                0.0                1.0   \n",
              "3         2433000.0                0.0                1.0   \n",
              "4               0.0                0.0                0.0   \n",
              "\n",
              "   cant_cast_ult_12m_sr       ind  pol_centr_ext  ingreso_nomina  \\\n",
              "0                   0.0  311715.5            0.0       1255032.0   \n",
              "1                   0.0  311715.5            0.0       1255032.0   \n",
              "2                   0.0  311306.0            0.0       1255032.0   \n",
              "3                   0.0  311306.0            0.0       1172612.0   \n",
              "4                   0.0  677516.0            0.0       1255032.0   \n",
              "\n",
              "   ingreso_segurida_social  gasto_familiar  \n",
              "0                        0        232526.0  \n",
              "1                        0        265900.0  \n",
              "2                        0        243052.0  \n",
              "3                        0        276014.0  \n",
              "4                        0        418866.0  \n",
              "\n",
              "[5 rows x 47 columns]"
            ]
          },
          "metadata": {
            "tags": []
          },
          "execution_count": 116
        }
      ]
    },
    {
      "cell_type": "code",
      "metadata": {
        "id": "OaEEl80H1b9w",
        "outputId": "f5af1faa-6434-46b4-a447-5ffbb6b2b853"
      },
      "source": [
        "df_num.shape"
      ],
      "execution_count": null,
      "outputs": [
        {
          "output_type": "execute_result",
          "data": {
            "text/plain": [
              "(20823626, 47)"
            ]
          },
          "metadata": {
            "tags": []
          },
          "execution_count": 119
        }
      ]
    },
    {
      "cell_type": "code",
      "metadata": {
        "id": "I3wzpiJb1b9x"
      },
      "source": [
        "x_train = df_num.iloc[:, 3:46].values\n",
        "y_train = df_num.loc[:, ['gasto_familiar']].values"
      ],
      "execution_count": null,
      "outputs": []
    },
    {
      "cell_type": "code",
      "metadata": {
        "id": "sRrBqiTt1b9x",
        "outputId": "2459ddc4-fe12-4047-d2b0-b5bf96374dac"
      },
      "source": [
        "reg = LinearRegression()\n",
        "reg.fit(x_train, y_train)"
      ],
      "execution_count": null,
      "outputs": [
        {
          "output_type": "execute_result",
          "data": {
            "text/plain": [
              "LinearRegression()"
            ]
          },
          "metadata": {
            "tags": []
          },
          "execution_count": 145
        }
      ]
    },
    {
      "cell_type": "code",
      "metadata": {
        "id": "6qHwGJ7w1b9y"
      },
      "source": [
        ""
      ],
      "execution_count": null,
      "outputs": []
    },
    {
      "cell_type": "code",
      "metadata": {
        "id": "bD88Vu-u1b9y",
        "outputId": "fa1e3f19-69a0-4b74-a913-c622df0f34bb"
      },
      "source": [
        "# Primero las columnas numericas\n",
        "\n",
        "num_base = (df_base.dtypes == float) | (df_base.dtypes == int)\n",
        "num_cols_base = [c for c in num_base.index if num_base[c]]\n",
        "df_base_num = df_base[num_cols_base]\n",
        "df_base_num.head()"
      ],
      "execution_count": null,
      "outputs": [
        {
          "output_type": "execute_result",
          "data": {
            "text/html": [
              "<div>\n",
              "<style scoped>\n",
              "    .dataframe tbody tr th:only-of-type {\n",
              "        vertical-align: middle;\n",
              "    }\n",
              "\n",
              "    .dataframe tbody tr th {\n",
              "        vertical-align: top;\n",
              "    }\n",
              "\n",
              "    .dataframe thead th {\n",
              "        text-align: right;\n",
              "    }\n",
              "</style>\n",
              "<table border=\"1\" class=\"dataframe\">\n",
              "  <thead>\n",
              "    <tr style=\"text-align: right;\">\n",
              "      <th></th>\n",
              "      <th>periodo</th>\n",
              "      <th>id_cli</th>\n",
              "      <th>fecha_nacimiento</th>\n",
              "      <th>edad</th>\n",
              "      <th>genero</th>\n",
              "      <th>estado_civil</th>\n",
              "      <th>nivel_academico</th>\n",
              "      <th>tipo_vivienda</th>\n",
              "      <th>ult_actual</th>\n",
              "      <th>categoria</th>\n",
              "      <th>...</th>\n",
              "      <th>saldo_prom3_tdc_mdo</th>\n",
              "      <th>cuota_tc_mdo</th>\n",
              "      <th>saldo_no_rot_mdo</th>\n",
              "      <th>cuota_libranza_sf</th>\n",
              "      <th>cant_oblig_tot_sf</th>\n",
              "      <th>cant_cast_ult_12m_sr</th>\n",
              "      <th>ind</th>\n",
              "      <th>pol_centr_ext</th>\n",
              "      <th>ingreso_nomina</th>\n",
              "      <th>ingreso_segurida_social</th>\n",
              "    </tr>\n",
              "  </thead>\n",
              "  <tbody>\n",
              "    <tr>\n",
              "      <th>0</th>\n",
              "      <td>201902</td>\n",
              "      <td>12154</td>\n",
              "      <td>19430621</td>\n",
              "      <td>75.575633</td>\n",
              "      <td>2</td>\n",
              "      <td>0.0</td>\n",
              "      <td>3</td>\n",
              "      <td>3.0</td>\n",
              "      <td>20180525</td>\n",
              "      <td>1</td>\n",
              "      <td>...</td>\n",
              "      <td>0.0</td>\n",
              "      <td>0.0</td>\n",
              "      <td>262000.0</td>\n",
              "      <td>0.0</td>\n",
              "      <td>1.0</td>\n",
              "      <td>0.0</td>\n",
              "      <td>6.412382e+06</td>\n",
              "      <td>1.0</td>\n",
              "      <td>0.0</td>\n",
              "      <td>0</td>\n",
              "    </tr>\n",
              "    <tr>\n",
              "      <th>1</th>\n",
              "      <td>201902</td>\n",
              "      <td>374</td>\n",
              "      <td>19810909</td>\n",
              "      <td>37.355236</td>\n",
              "      <td>1</td>\n",
              "      <td>0.0</td>\n",
              "      <td>4</td>\n",
              "      <td>0.0</td>\n",
              "      <td>20170520</td>\n",
              "      <td>1</td>\n",
              "      <td>...</td>\n",
              "      <td>0.0</td>\n",
              "      <td>0.0</td>\n",
              "      <td>0.0</td>\n",
              "      <td>0.0</td>\n",
              "      <td>1.0</td>\n",
              "      <td>0.0</td>\n",
              "      <td>1.323586e+05</td>\n",
              "      <td>0.0</td>\n",
              "      <td>0.0</td>\n",
              "      <td>0</td>\n",
              "    </tr>\n",
              "    <tr>\n",
              "      <th>2</th>\n",
              "      <td>201902</td>\n",
              "      <td>7365</td>\n",
              "      <td>19810311</td>\n",
              "      <td>37.853525</td>\n",
              "      <td>1</td>\n",
              "      <td>0.0</td>\n",
              "      <td>4</td>\n",
              "      <td>4.0</td>\n",
              "      <td>20180525</td>\n",
              "      <td>1</td>\n",
              "      <td>...</td>\n",
              "      <td>261500.0</td>\n",
              "      <td>35000.0</td>\n",
              "      <td>0.0</td>\n",
              "      <td>0.0</td>\n",
              "      <td>1.0</td>\n",
              "      <td>0.0</td>\n",
              "      <td>1.394262e+06</td>\n",
              "      <td>0.0</td>\n",
              "      <td>0.0</td>\n",
              "      <td>0</td>\n",
              "    </tr>\n",
              "    <tr>\n",
              "      <th>3</th>\n",
              "      <td>201902</td>\n",
              "      <td>16314</td>\n",
              "      <td>19781030</td>\n",
              "      <td>40.216290</td>\n",
              "      <td>1</td>\n",
              "      <td>0.0</td>\n",
              "      <td>2</td>\n",
              "      <td>1.0</td>\n",
              "      <td>20180912</td>\n",
              "      <td>1</td>\n",
              "      <td>...</td>\n",
              "      <td>0.0</td>\n",
              "      <td>0.0</td>\n",
              "      <td>8323000.0</td>\n",
              "      <td>0.0</td>\n",
              "      <td>0.0</td>\n",
              "      <td>44.0</td>\n",
              "      <td>3.483775e+06</td>\n",
              "      <td>8.0</td>\n",
              "      <td>0.0</td>\n",
              "      <td>0</td>\n",
              "    </tr>\n",
              "    <tr>\n",
              "      <th>4</th>\n",
              "      <td>201902</td>\n",
              "      <td>19374</td>\n",
              "      <td>19790903</td>\n",
              "      <td>39.373032</td>\n",
              "      <td>1</td>\n",
              "      <td>0.0</td>\n",
              "      <td>5</td>\n",
              "      <td>2.0</td>\n",
              "      <td>20181123</td>\n",
              "      <td>3</td>\n",
              "      <td>...</td>\n",
              "      <td>1902500.0</td>\n",
              "      <td>1176000.0</td>\n",
              "      <td>0.0</td>\n",
              "      <td>0.0</td>\n",
              "      <td>12.0</td>\n",
              "      <td>0.0</td>\n",
              "      <td>5.554769e+07</td>\n",
              "      <td>0.0</td>\n",
              "      <td>0.0</td>\n",
              "      <td>0</td>\n",
              "    </tr>\n",
              "  </tbody>\n",
              "</table>\n",
              "<p>5 rows × 46 columns</p>\n",
              "</div>"
            ],
            "text/plain": [
              "   periodo  id_cli  fecha_nacimiento       edad  genero  estado_civil  \\\n",
              "0   201902   12154          19430621  75.575633       2           0.0   \n",
              "1   201902     374          19810909  37.355236       1           0.0   \n",
              "2   201902    7365          19810311  37.853525       1           0.0   \n",
              "3   201902   16314          19781030  40.216290       1           0.0   \n",
              "4   201902   19374          19790903  39.373032       1           0.0   \n",
              "\n",
              "   nivel_academico  tipo_vivienda  ult_actual  categoria  ...  \\\n",
              "0                3            3.0    20180525          1  ...   \n",
              "1                4            0.0    20170520          1  ...   \n",
              "2                4            4.0    20180525          1  ...   \n",
              "3                2            1.0    20180912          1  ...   \n",
              "4                5            2.0    20181123          3  ...   \n",
              "\n",
              "   saldo_prom3_tdc_mdo  cuota_tc_mdo  saldo_no_rot_mdo  cuota_libranza_sf  \\\n",
              "0                  0.0           0.0          262000.0                0.0   \n",
              "1                  0.0           0.0               0.0                0.0   \n",
              "2             261500.0       35000.0               0.0                0.0   \n",
              "3                  0.0           0.0         8323000.0                0.0   \n",
              "4            1902500.0     1176000.0               0.0                0.0   \n",
              "\n",
              "   cant_oblig_tot_sf  cant_cast_ult_12m_sr           ind  pol_centr_ext  \\\n",
              "0                1.0                   0.0  6.412382e+06            1.0   \n",
              "1                1.0                   0.0  1.323586e+05            0.0   \n",
              "2                1.0                   0.0  1.394262e+06            0.0   \n",
              "3                0.0                  44.0  3.483775e+06            8.0   \n",
              "4               12.0                   0.0  5.554769e+07            0.0   \n",
              "\n",
              "   ingreso_nomina  ingreso_segurida_social  \n",
              "0             0.0                        0  \n",
              "1             0.0                        0  \n",
              "2             0.0                        0  \n",
              "3             0.0                        0  \n",
              "4             0.0                        0  \n",
              "\n",
              "[5 rows x 46 columns]"
            ]
          },
          "metadata": {
            "tags": []
          },
          "execution_count": 128
        }
      ]
    },
    {
      "cell_type": "code",
      "metadata": {
        "id": "YpMaPLmM1b9y",
        "outputId": "95244c93-a3c9-4d2e-8906-25d852c42d9f"
      },
      "source": [
        "df_base_num['cant_oblig_tot_sf'] = df_base_num['cant_oblig_tot_sf'].replace(np.nan, 0, regex=True)\n",
        "df_base_num['cant_cast_ult_12m_sr'] = df_base_num['cant_cast_ult_12m_sr'].replace(np.nan, 0, regex=True)\n",
        "df_base_num['pol_centr_ext'] = df_base_num['pol_centr_ext'].replace(np.nan, 0, regex=True)\n",
        "df_base_num['cuota_cred_hipot'] = df_base_num['cuota_cred_hipot'].replace(np.nan, 0, regex=True)\n",
        "df_base_num['cant_mora_30_tdc_ult_3m_sf'] = df_base_num['cant_mora_30_tdc_ult_3m_sf'].replace(np.nan, 0, regex=True)\n",
        "df_base_num['cant_mora_30_consum_ult_3m_sf'] = df_base_num['cant_mora_30_consum_ult_3m_sf'].replace(np.nan, 0, regex=True)"
      ],
      "execution_count": null,
      "outputs": [
        {
          "output_type": "stream",
          "text": [
            "/opt/conda/lib/python3.7/site-packages/ipykernel_launcher.py:1: SettingWithCopyWarning: \n",
            "A value is trying to be set on a copy of a slice from a DataFrame.\n",
            "Try using .loc[row_indexer,col_indexer] = value instead\n",
            "\n",
            "See the caveats in the documentation: https://pandas.pydata.org/pandas-docs/stable/user_guide/indexing.html#returning-a-view-versus-a-copy\n",
            "  \"\"\"Entry point for launching an IPython kernel.\n",
            "/opt/conda/lib/python3.7/site-packages/ipykernel_launcher.py:2: SettingWithCopyWarning: \n",
            "A value is trying to be set on a copy of a slice from a DataFrame.\n",
            "Try using .loc[row_indexer,col_indexer] = value instead\n",
            "\n",
            "See the caveats in the documentation: https://pandas.pydata.org/pandas-docs/stable/user_guide/indexing.html#returning-a-view-versus-a-copy\n",
            "  \n",
            "/opt/conda/lib/python3.7/site-packages/ipykernel_launcher.py:3: SettingWithCopyWarning: \n",
            "A value is trying to be set on a copy of a slice from a DataFrame.\n",
            "Try using .loc[row_indexer,col_indexer] = value instead\n",
            "\n",
            "See the caveats in the documentation: https://pandas.pydata.org/pandas-docs/stable/user_guide/indexing.html#returning-a-view-versus-a-copy\n",
            "  This is separate from the ipykernel package so we can avoid doing imports until\n",
            "/opt/conda/lib/python3.7/site-packages/ipykernel_launcher.py:4: SettingWithCopyWarning: \n",
            "A value is trying to be set on a copy of a slice from a DataFrame.\n",
            "Try using .loc[row_indexer,col_indexer] = value instead\n",
            "\n",
            "See the caveats in the documentation: https://pandas.pydata.org/pandas-docs/stable/user_guide/indexing.html#returning-a-view-versus-a-copy\n",
            "  after removing the cwd from sys.path.\n",
            "/opt/conda/lib/python3.7/site-packages/ipykernel_launcher.py:5: SettingWithCopyWarning: \n",
            "A value is trying to be set on a copy of a slice from a DataFrame.\n",
            "Try using .loc[row_indexer,col_indexer] = value instead\n",
            "\n",
            "See the caveats in the documentation: https://pandas.pydata.org/pandas-docs/stable/user_guide/indexing.html#returning-a-view-versus-a-copy\n",
            "  \"\"\"\n",
            "/opt/conda/lib/python3.7/site-packages/ipykernel_launcher.py:6: SettingWithCopyWarning: \n",
            "A value is trying to be set on a copy of a slice from a DataFrame.\n",
            "Try using .loc[row_indexer,col_indexer] = value instead\n",
            "\n",
            "See the caveats in the documentation: https://pandas.pydata.org/pandas-docs/stable/user_guide/indexing.html#returning-a-view-versus-a-copy\n",
            "  \n"
          ],
          "name": "stderr"
        }
      ]
    },
    {
      "cell_type": "code",
      "metadata": {
        "id": "57J8F5Fp1b9z",
        "outputId": "0c3f88db-28a9-4741-dd63-bab70000520d"
      },
      "source": [
        "pd.set_option('display.max_columns', 65)\n",
        "df_base_num.notnull().apply(pd.Series.value_counts)"
      ],
      "execution_count": null,
      "outputs": [
        {
          "output_type": "execute_result",
          "data": {
            "text/html": [
              "<div>\n",
              "<style scoped>\n",
              "    .dataframe tbody tr th:only-of-type {\n",
              "        vertical-align: middle;\n",
              "    }\n",
              "\n",
              "    .dataframe tbody tr th {\n",
              "        vertical-align: top;\n",
              "    }\n",
              "\n",
              "    .dataframe thead th {\n",
              "        text-align: right;\n",
              "    }\n",
              "</style>\n",
              "<table border=\"1\" class=\"dataframe\">\n",
              "  <thead>\n",
              "    <tr style=\"text-align: right;\">\n",
              "      <th></th>\n",
              "      <th>periodo</th>\n",
              "      <th>id_cli</th>\n",
              "      <th>fecha_nacimiento</th>\n",
              "      <th>edad</th>\n",
              "      <th>genero</th>\n",
              "      <th>estado_civil</th>\n",
              "      <th>nivel_academico</th>\n",
              "      <th>tipo_vivienda</th>\n",
              "      <th>ult_actual</th>\n",
              "      <th>categoria</th>\n",
              "      <th>codigo_ciiu</th>\n",
              "      <th>mora_max</th>\n",
              "      <th>cant_moras_30_ult_12_meses</th>\n",
              "      <th>cant_moras_60_ult_12_meses</th>\n",
              "      <th>cant_moras_90_ult_12_meses</th>\n",
              "      <th>cupo_total_tc</th>\n",
              "      <th>tenencia_tc</th>\n",
              "      <th>cuota_tc_bancolombia</th>\n",
              "      <th>nro_tot_cuentas</th>\n",
              "      <th>ctas_activas</th>\n",
              "      <th>ctas_embargadas</th>\n",
              "      <th>cuota_cred_hipot</th>\n",
              "      <th>mediana_nom3</th>\n",
              "      <th>mediana_pen3</th>\n",
              "      <th>ingreso_nompen</th>\n",
              "      <th>cat_ingreso</th>\n",
              "      <th>ingreso_final</th>\n",
              "      <th>cant_mora_30_tdc_ult_3m_sf</th>\n",
              "      <th>cant_mora_30_consum_ult_3m_sf</th>\n",
              "      <th>cuota_de_vivienda</th>\n",
              "      <th>cuota_de_consumo</th>\n",
              "      <th>cuota_rotativos</th>\n",
              "      <th>cuota_tarjeta_de_credito</th>\n",
              "      <th>cuota_de_sector_solidario</th>\n",
              "      <th>cuota_sector_real_comercio</th>\n",
              "      <th>cupo_tc_mdo</th>\n",
              "      <th>saldo_prom3_tdc_mdo</th>\n",
              "      <th>cuota_tc_mdo</th>\n",
              "      <th>saldo_no_rot_mdo</th>\n",
              "      <th>cuota_libranza_sf</th>\n",
              "      <th>cant_oblig_tot_sf</th>\n",
              "      <th>cant_cast_ult_12m_sr</th>\n",
              "      <th>ind</th>\n",
              "      <th>pol_centr_ext</th>\n",
              "      <th>ingreso_nomina</th>\n",
              "      <th>ingreso_segurida_social</th>\n",
              "    </tr>\n",
              "  </thead>\n",
              "  <tbody>\n",
              "    <tr>\n",
              "      <th>True</th>\n",
              "      <td>281666</td>\n",
              "      <td>281666</td>\n",
              "      <td>281666</td>\n",
              "      <td>281666</td>\n",
              "      <td>281666</td>\n",
              "      <td>281666</td>\n",
              "      <td>281666</td>\n",
              "      <td>281666</td>\n",
              "      <td>281666</td>\n",
              "      <td>281666</td>\n",
              "      <td>281666</td>\n",
              "      <td>281666</td>\n",
              "      <td>281666</td>\n",
              "      <td>281666</td>\n",
              "      <td>281666</td>\n",
              "      <td>281666</td>\n",
              "      <td>281666</td>\n",
              "      <td>281666</td>\n",
              "      <td>281666</td>\n",
              "      <td>281666</td>\n",
              "      <td>281666</td>\n",
              "      <td>281666</td>\n",
              "      <td>281666</td>\n",
              "      <td>281666</td>\n",
              "      <td>281666</td>\n",
              "      <td>281666</td>\n",
              "      <td>281666</td>\n",
              "      <td>281666</td>\n",
              "      <td>281666</td>\n",
              "      <td>281666</td>\n",
              "      <td>281666</td>\n",
              "      <td>281666</td>\n",
              "      <td>281666</td>\n",
              "      <td>281666</td>\n",
              "      <td>281666</td>\n",
              "      <td>281666</td>\n",
              "      <td>281666</td>\n",
              "      <td>281666</td>\n",
              "      <td>281666</td>\n",
              "      <td>281666</td>\n",
              "      <td>281666</td>\n",
              "      <td>281666</td>\n",
              "      <td>281666</td>\n",
              "      <td>281666</td>\n",
              "      <td>281666</td>\n",
              "      <td>281666</td>\n",
              "    </tr>\n",
              "  </tbody>\n",
              "</table>\n",
              "</div>"
            ],
            "text/plain": [
              "      periodo  id_cli  fecha_nacimiento    edad  genero  estado_civil  \\\n",
              "True   281666  281666            281666  281666  281666        281666   \n",
              "\n",
              "      nivel_academico  tipo_vivienda  ult_actual  categoria  codigo_ciiu  \\\n",
              "True           281666         281666      281666     281666       281666   \n",
              "\n",
              "      mora_max  cant_moras_30_ult_12_meses  cant_moras_60_ult_12_meses  \\\n",
              "True    281666                      281666                      281666   \n",
              "\n",
              "      cant_moras_90_ult_12_meses  cupo_total_tc  tenencia_tc  \\\n",
              "True                      281666         281666       281666   \n",
              "\n",
              "      cuota_tc_bancolombia  nro_tot_cuentas  ctas_activas  ctas_embargadas  \\\n",
              "True                281666           281666        281666           281666   \n",
              "\n",
              "      cuota_cred_hipot  mediana_nom3  mediana_pen3  ingreso_nompen  \\\n",
              "True            281666        281666        281666          281666   \n",
              "\n",
              "      cat_ingreso  ingreso_final  cant_mora_30_tdc_ult_3m_sf  \\\n",
              "True       281666         281666                      281666   \n",
              "\n",
              "      cant_mora_30_consum_ult_3m_sf  cuota_de_vivienda  cuota_de_consumo  \\\n",
              "True                         281666             281666            281666   \n",
              "\n",
              "      cuota_rotativos  cuota_tarjeta_de_credito  cuota_de_sector_solidario  \\\n",
              "True           281666                    281666                     281666   \n",
              "\n",
              "      cuota_sector_real_comercio  cupo_tc_mdo  saldo_prom3_tdc_mdo  \\\n",
              "True                      281666       281666               281666   \n",
              "\n",
              "      cuota_tc_mdo  saldo_no_rot_mdo  cuota_libranza_sf  cant_oblig_tot_sf  \\\n",
              "True        281666            281666             281666             281666   \n",
              "\n",
              "      cant_cast_ult_12m_sr     ind  pol_centr_ext  ingreso_nomina  \\\n",
              "True                281666  281666         281666          281666   \n",
              "\n",
              "      ingreso_segurida_social  \n",
              "True                   281666  "
            ]
          },
          "metadata": {
            "tags": []
          },
          "execution_count": 137
        }
      ]
    },
    {
      "cell_type": "code",
      "metadata": {
        "id": "Ewi5qxZF1b90"
      },
      "source": [
        "x_test = df_base_num.iloc[:, 3:46].values\n",
        "y_predict = reg.predict(x_test)"
      ],
      "execution_count": null,
      "outputs": []
    },
    {
      "cell_type": "code",
      "metadata": {
        "id": "fx7Cday71b90"
      },
      "source": [
        "df_base_num = pd.concat([df_base_num, df_base['id_registro']],axis=1)"
      ],
      "execution_count": null,
      "outputs": []
    },
    {
      "cell_type": "code",
      "metadata": {
        "id": "wkUY9IKO1b91",
        "outputId": "caa92edb-5d00-492b-a3e8-980f481fa64b"
      },
      "source": [
        "y_test = pd.DataFrame(y_predict)\n",
        "y_test.columns = ['gasto_familiar']\n",
        "result = pd.concat([df_base_num, y_test],axis=1)\n",
        "final = result.loc[:, ['id_registro', 'gasto_familiar']]\n",
        "final.head()"
      ],
      "execution_count": null,
      "outputs": [
        {
          "output_type": "execute_result",
          "data": {
            "text/html": [
              "<div>\n",
              "<style scoped>\n",
              "    .dataframe tbody tr th:only-of-type {\n",
              "        vertical-align: middle;\n",
              "    }\n",
              "\n",
              "    .dataframe tbody tr th {\n",
              "        vertical-align: top;\n",
              "    }\n",
              "\n",
              "    .dataframe thead th {\n",
              "        text-align: right;\n",
              "    }\n",
              "</style>\n",
              "<table border=\"1\" class=\"dataframe\">\n",
              "  <thead>\n",
              "    <tr style=\"text-align: right;\">\n",
              "      <th></th>\n",
              "      <th>id_registro</th>\n",
              "      <th>gasto_familiar</th>\n",
              "    </tr>\n",
              "  </thead>\n",
              "  <tbody>\n",
              "    <tr>\n",
              "      <th>0</th>\n",
              "      <td>12154#201902</td>\n",
              "      <td>6.673383e+05</td>\n",
              "    </tr>\n",
              "    <tr>\n",
              "      <th>1</th>\n",
              "      <td>374#201902</td>\n",
              "      <td>6.723541e+05</td>\n",
              "    </tr>\n",
              "    <tr>\n",
              "      <th>2</th>\n",
              "      <td>7365#201902</td>\n",
              "      <td>2.843815e+05</td>\n",
              "    </tr>\n",
              "    <tr>\n",
              "      <th>3</th>\n",
              "      <td>16314#201902</td>\n",
              "      <td>4.392325e+05</td>\n",
              "    </tr>\n",
              "    <tr>\n",
              "      <th>4</th>\n",
              "      <td>19374#201902</td>\n",
              "      <td>3.251752e+06</td>\n",
              "    </tr>\n",
              "  </tbody>\n",
              "</table>\n",
              "</div>"
            ],
            "text/plain": [
              "    id_registro  gasto_familiar\n",
              "0  12154#201902    6.673383e+05\n",
              "1    374#201902    6.723541e+05\n",
              "2   7365#201902    2.843815e+05\n",
              "3  16314#201902    4.392325e+05\n",
              "4  19374#201902    3.251752e+06"
            ]
          },
          "metadata": {
            "tags": []
          },
          "execution_count": 148
        }
      ]
    },
    {
      "cell_type": "code",
      "metadata": {
        "id": "JftG2Erm1b91"
      },
      "source": [
        "final.to_csv('final3.csv', index = False)"
      ],
      "execution_count": null,
      "outputs": []
    },
    {
      "cell_type": "code",
      "metadata": {
        "id": "CfY36leW1b91"
      },
      "source": [
        "#"
      ],
      "execution_count": null,
      "outputs": []
    },
    {
      "cell_type": "code",
      "metadata": {
        "id": "bLJQzdCV1b92"
      },
      "source": [
        ""
      ],
      "execution_count": null,
      "outputs": []
    },
    {
      "cell_type": "code",
      "metadata": {
        "id": "6DGa1kqc1b92"
      },
      "source": [
        "# REEMPLAZAR\n",
        "df_base = df_base.replace({\"F\": 1, \"M\": 2})\n",
        "df_base['genero'].unique()"
      ],
      "execution_count": null,
      "outputs": []
    },
    {
      "cell_type": "code",
      "metadata": {
        "id": "UlMVktVl1b93"
      },
      "source": [
        "df.Age = df.Age.replace({\"0-17\": 17, \"+55\": 60})"
      ],
      "execution_count": null,
      "outputs": []
    },
    {
      "cell_type": "code",
      "metadata": {
        "id": "9ZLrERCs1b93"
      },
      "source": [
        ""
      ],
      "execution_count": null,
      "outputs": []
    },
    {
      "cell_type": "code",
      "metadata": {
        "id": "3GYPUKeO1b93"
      },
      "source": [
        ""
      ],
      "execution_count": null,
      "outputs": []
    },
    {
      "cell_type": "code",
      "metadata": {
        "id": "_r6bhJfR1b94"
      },
      "source": [
        ""
      ],
      "execution_count": null,
      "outputs": []
    },
    {
      "cell_type": "code",
      "metadata": {
        "id": "dIWUu1gL1b94",
        "outputId": "065003b3-6b71-4951-d4fe-2215e542ff3a"
      },
      "source": [
        "x_train = df_num.loc[:, ['periodo', 'id_cli', 'edad', 'categoria', 'mora_max',\n",
        "                         'nro_tot_cuentas', 'ctas_activas', 'ctas_embargadas', \n",
        "                        'ingreso_nompen', 'cant_cast_ult_12m_sr', 'ind',\n",
        "                         'ingreso_nomina', 'ingreso_segurida_social'\n",
        "                        ]].values\n",
        "\n",
        "# y = gasto_familiar\n",
        "y_train = df_num.loc[:, ['gasto_familiar']].values\n",
        "\n",
        "x_train.shape"
      ],
      "execution_count": null,
      "outputs": [
        {
          "output_type": "execute_result",
          "data": {
            "text/plain": [
              "(20823707, 13)"
            ]
          },
          "metadata": {
            "tags": []
          },
          "execution_count": 20
        }
      ]
    },
    {
      "cell_type": "code",
      "metadata": {
        "id": "LU1lzSUU1b94",
        "outputId": "6580b8c6-206f-47db-d190-963272ec8bf2"
      },
      "source": [
        "df_base = pd.read_csv('dt2020_base_evaluar_semicolon.csv', sep=';', low_memory=False)\n",
        "df_base.shape"
      ],
      "execution_count": null,
      "outputs": [
        {
          "output_type": "execute_result",
          "data": {
            "text/plain": [
              "(281666, 65)"
            ]
          },
          "metadata": {
            "tags": []
          },
          "execution_count": 22
        }
      ]
    },
    {
      "cell_type": "code",
      "metadata": {
        "_cell_guid": "79c7e3d0-c299-4dcb-8224-4455121ee9b0",
        "_uuid": "d629ff2d2480ee46fbb7e2d37f6b5fab8052498a",
        "id": "RGGeX9Zo1b95"
      },
      "source": [
        "# Eliminar y convertir las filas que contienen los \\\\N\n",
        "\n",
        "# Primero convertir los \\\\N a NaN\n",
        "df_base['categoria'] = pd.to_numeric(df_base['categoria'], errors='coerce')\n",
        "df_base['mora_max'] = pd.to_numeric(df_base['mora_max'], errors='coerce')\n",
        "df_base['cant_moras_30_ult_12_meses'] = pd.to_numeric(df_base['cant_moras_30_ult_12_meses'], errors='coerce')\n",
        "df_base['cant_moras_60_ult_12_meses'] = pd.to_numeric(df_base['cant_moras_60_ult_12_meses'], errors='coerce')\n",
        "df_base['cant_moras_90_ult_12_meses'] = pd.to_numeric(df_base['cant_moras_90_ult_12_meses'], errors='coerce')\n",
        "df_base['ingreso_segurida_social'] = pd.to_numeric(df_base['ingreso_segurida_social'], errors='coerce')"
      ],
      "execution_count": null,
      "outputs": []
    },
    {
      "cell_type": "code",
      "metadata": {
        "id": "3rhNlcIk1b95",
        "outputId": "da4fa401-679b-47d2-def3-de5bea3d7b2f"
      },
      "source": [
        "# Convirtiendo los NaN en 0\n",
        "\n",
        "df_base['categoria'] = df_base['categoria'].replace(np.nan, 0, regex=True)\n",
        "df_base['mora_max'] = df_base['mora_max'].replace(np.nan, 0, regex=True)\n",
        "df_base['cant_moras_30_ult_12_meses'] = df_base['cant_moras_30_ult_12_meses'].replace(np.nan, 0, regex=True)\n",
        "df_base['cant_moras_60_ult_12_meses'] = df_base['cant_moras_60_ult_12_meses'].replace(np.nan, 0, regex=True)\n",
        "df_base['cant_moras_90_ult_12_meses'] = df_base['cant_moras_90_ult_12_meses'].replace(np.nan, 0, regex=True)\n",
        "df_base['ingreso_segurida_social'] = df_base['ingreso_segurida_social'].replace(np.nan, 0, regex=True)\n",
        "\n",
        "df_base.shape"
      ],
      "execution_count": null,
      "outputs": [
        {
          "output_type": "execute_result",
          "data": {
            "text/plain": [
              "(281666, 65)"
            ]
          },
          "metadata": {
            "tags": []
          },
          "execution_count": 24
        }
      ]
    },
    {
      "cell_type": "code",
      "metadata": {
        "id": "Uj77Eam21b96",
        "outputId": "b908e383-4d8a-40cd-8df2-b35461c3aaa5"
      },
      "source": [
        "# Convertir de float64 a int64\n",
        "\n",
        "df_base['categoria'] = df_base['categoria'].astype('int64')\n",
        "df_base['mora_max'] = df_base['mora_max'].astype('int64')\n",
        "df_base['cant_moras_30_ult_12_meses'] = df_base['cant_moras_30_ult_12_meses'].astype('int64')\n",
        "df_base['cant_moras_60_ult_12_meses'] = df_base['cant_moras_60_ult_12_meses'].astype('int64')\n",
        "df_base['cant_moras_90_ult_12_meses'] = df_base['cant_moras_90_ult_12_meses'].astype('int64')\n",
        "df_base['ingreso_segurida_social'] = df_base['ingreso_segurida_social'].astype('int64')\n",
        "\n",
        "df_base.shape"
      ],
      "execution_count": null,
      "outputs": [
        {
          "output_type": "execute_result",
          "data": {
            "text/plain": [
              "(281666, 65)"
            ]
          },
          "metadata": {
            "tags": []
          },
          "execution_count": 25
        }
      ]
    },
    {
      "cell_type": "code",
      "metadata": {
        "id": "CKbx494p1b96",
        "outputId": "6a69f496-6217-46d4-d655-e2c04e5d216e"
      },
      "source": [
        "# Primero las columnas numericas\n",
        "\n",
        "num_base = (df_base.dtypes == float) | (df_base.dtypes == int)\n",
        "num_cols_base = [c for c in num_base.index if num_base[c]]\n",
        "df_base_num = df_base[num_cols_base]\n",
        "df_base_num.shape"
      ],
      "execution_count": null,
      "outputs": [
        {
          "output_type": "execute_result",
          "data": {
            "text/plain": [
              "(281666, 40)"
            ]
          },
          "metadata": {
            "tags": []
          },
          "execution_count": 26
        }
      ]
    },
    {
      "cell_type": "code",
      "metadata": {
        "id": "Ua03hFY11b97",
        "outputId": "ff232393-30ad-4ea2-80b5-a36e5ba9259d"
      },
      "source": [
        "df_base_num.isnull().apply(pd.Series.value_counts)"
      ],
      "execution_count": null,
      "outputs": [
        {
          "output_type": "execute_result",
          "data": {
            "text/html": [
              "<div>\n",
              "<style scoped>\n",
              "    .dataframe tbody tr th:only-of-type {\n",
              "        vertical-align: middle;\n",
              "    }\n",
              "\n",
              "    .dataframe tbody tr th {\n",
              "        vertical-align: top;\n",
              "    }\n",
              "\n",
              "    .dataframe thead th {\n",
              "        text-align: right;\n",
              "    }\n",
              "</style>\n",
              "<table border=\"1\" class=\"dataframe\">\n",
              "  <thead>\n",
              "    <tr style=\"text-align: right;\">\n",
              "      <th></th>\n",
              "      <th>periodo</th>\n",
              "      <th>id_cli</th>\n",
              "      <th>fecha_nacimiento</th>\n",
              "      <th>edad</th>\n",
              "      <th>ult_actual</th>\n",
              "      <th>categoria</th>\n",
              "      <th>codigo_ciiu</th>\n",
              "      <th>mora_max</th>\n",
              "      <th>cant_moras_30_ult_12_meses</th>\n",
              "      <th>cant_moras_60_ult_12_meses</th>\n",
              "      <th>...</th>\n",
              "      <th>saldo_prom3_tdc_mdo</th>\n",
              "      <th>cuota_tc_mdo</th>\n",
              "      <th>saldo_no_rot_mdo</th>\n",
              "      <th>cuota_libranza_sf</th>\n",
              "      <th>cant_oblig_tot_sf</th>\n",
              "      <th>cant_cast_ult_12m_sr</th>\n",
              "      <th>ind</th>\n",
              "      <th>pol_centr_ext</th>\n",
              "      <th>ingreso_nomina</th>\n",
              "      <th>ingreso_segurida_social</th>\n",
              "    </tr>\n",
              "  </thead>\n",
              "  <tbody>\n",
              "    <tr>\n",
              "      <th>False</th>\n",
              "      <td>281666.0</td>\n",
              "      <td>281666.0</td>\n",
              "      <td>281666.0</td>\n",
              "      <td>281666.0</td>\n",
              "      <td>281666.0</td>\n",
              "      <td>281666.0</td>\n",
              "      <td>281666.0</td>\n",
              "      <td>281666.0</td>\n",
              "      <td>281666.0</td>\n",
              "      <td>281666.0</td>\n",
              "      <td>...</td>\n",
              "      <td>281666.0</td>\n",
              "      <td>281666.0</td>\n",
              "      <td>281666.0</td>\n",
              "      <td>281666.0</td>\n",
              "      <td>257536</td>\n",
              "      <td>257536</td>\n",
              "      <td>281649</td>\n",
              "      <td>259027</td>\n",
              "      <td>95973</td>\n",
              "      <td>281666.0</td>\n",
              "    </tr>\n",
              "    <tr>\n",
              "      <th>True</th>\n",
              "      <td>NaN</td>\n",
              "      <td>NaN</td>\n",
              "      <td>NaN</td>\n",
              "      <td>NaN</td>\n",
              "      <td>NaN</td>\n",
              "      <td>NaN</td>\n",
              "      <td>NaN</td>\n",
              "      <td>NaN</td>\n",
              "      <td>NaN</td>\n",
              "      <td>NaN</td>\n",
              "      <td>...</td>\n",
              "      <td>NaN</td>\n",
              "      <td>NaN</td>\n",
              "      <td>NaN</td>\n",
              "      <td>NaN</td>\n",
              "      <td>24130</td>\n",
              "      <td>24130</td>\n",
              "      <td>17</td>\n",
              "      <td>22639</td>\n",
              "      <td>185693</td>\n",
              "      <td>NaN</td>\n",
              "    </tr>\n",
              "  </tbody>\n",
              "</table>\n",
              "<p>2 rows × 40 columns</p>\n",
              "</div>"
            ],
            "text/plain": [
              "        periodo    id_cli  fecha_nacimiento      edad  ult_actual  categoria  \\\n",
              "False  281666.0  281666.0          281666.0  281666.0    281666.0   281666.0   \n",
              "True        NaN       NaN               NaN       NaN         NaN        NaN   \n",
              "\n",
              "       codigo_ciiu  mora_max  cant_moras_30_ult_12_meses  \\\n",
              "False     281666.0  281666.0                    281666.0   \n",
              "True           NaN       NaN                         NaN   \n",
              "\n",
              "       cant_moras_60_ult_12_meses  ...  saldo_prom3_tdc_mdo  cuota_tc_mdo  \\\n",
              "False                    281666.0  ...             281666.0      281666.0   \n",
              "True                          NaN  ...                  NaN           NaN   \n",
              "\n",
              "       saldo_no_rot_mdo  cuota_libranza_sf  cant_oblig_tot_sf  \\\n",
              "False          281666.0           281666.0             257536   \n",
              "True                NaN                NaN              24130   \n",
              "\n",
              "       cant_cast_ult_12m_sr     ind  pol_centr_ext  ingreso_nomina  \\\n",
              "False                257536  281649         259027           95973   \n",
              "True                  24130      17          22639          185693   \n",
              "\n",
              "       ingreso_segurida_social  \n",
              "False                 281666.0  \n",
              "True                       NaN  \n",
              "\n",
              "[2 rows x 40 columns]"
            ]
          },
          "metadata": {
            "tags": []
          },
          "execution_count": 27
        }
      ]
    },
    {
      "cell_type": "code",
      "metadata": {
        "id": "Vu_xO6lF1b97",
        "outputId": "61b90589-6a42-42db-84a1-e6d14e94a0d3"
      },
      "source": [
        "# Reemplazando valores nulos en 0.0\n",
        "df_base_num['cuota_cred_hipot'] = df_base_num['cuota_cred_hipot'].replace(np.nan,0)\n",
        "df_base_num['cant_mora_30_tdc_ult_3m_sf'] = df_base_num['cant_mora_30_tdc_ult_3m_sf'].replace(np.nan,0)\n",
        "df_base_num['cant_mora_30_consum_ult_3m_sf'] = df_base_num['cant_mora_30_consum_ult_3m_sf'].replace(np.nan,0)\n",
        "df_base_num['cant_oblig_tot_sf'] = df_base_num['cant_oblig_tot_sf'].replace(np.nan,0)\n",
        "df_base_num['cant_cast_ult_12m_sr'] = df_base_num['cant_cast_ult_12m_sr'].replace(np.nan,0)\n",
        "df_base_num['pol_centr_ext'] = df_base_num['pol_centr_ext'].replace(np.nan,0)\n",
        "df_base_num['ingreso_nomina'] = df_base_num['ingreso_nomina'].replace(np.nan,0)"
      ],
      "execution_count": null,
      "outputs": [
        {
          "output_type": "stream",
          "text": [
            "/opt/conda/lib/python3.7/site-packages/ipykernel_launcher.py:2: SettingWithCopyWarning: \n",
            "A value is trying to be set on a copy of a slice from a DataFrame.\n",
            "Try using .loc[row_indexer,col_indexer] = value instead\n",
            "\n",
            "See the caveats in the documentation: https://pandas.pydata.org/pandas-docs/stable/user_guide/indexing.html#returning-a-view-versus-a-copy\n",
            "  \n",
            "/opt/conda/lib/python3.7/site-packages/ipykernel_launcher.py:3: SettingWithCopyWarning: \n",
            "A value is trying to be set on a copy of a slice from a DataFrame.\n",
            "Try using .loc[row_indexer,col_indexer] = value instead\n",
            "\n",
            "See the caveats in the documentation: https://pandas.pydata.org/pandas-docs/stable/user_guide/indexing.html#returning-a-view-versus-a-copy\n",
            "  This is separate from the ipykernel package so we can avoid doing imports until\n",
            "/opt/conda/lib/python3.7/site-packages/ipykernel_launcher.py:4: SettingWithCopyWarning: \n",
            "A value is trying to be set on a copy of a slice from a DataFrame.\n",
            "Try using .loc[row_indexer,col_indexer] = value instead\n",
            "\n",
            "See the caveats in the documentation: https://pandas.pydata.org/pandas-docs/stable/user_guide/indexing.html#returning-a-view-versus-a-copy\n",
            "  after removing the cwd from sys.path.\n",
            "/opt/conda/lib/python3.7/site-packages/ipykernel_launcher.py:5: SettingWithCopyWarning: \n",
            "A value is trying to be set on a copy of a slice from a DataFrame.\n",
            "Try using .loc[row_indexer,col_indexer] = value instead\n",
            "\n",
            "See the caveats in the documentation: https://pandas.pydata.org/pandas-docs/stable/user_guide/indexing.html#returning-a-view-versus-a-copy\n",
            "  \"\"\"\n",
            "/opt/conda/lib/python3.7/site-packages/ipykernel_launcher.py:6: SettingWithCopyWarning: \n",
            "A value is trying to be set on a copy of a slice from a DataFrame.\n",
            "Try using .loc[row_indexer,col_indexer] = value instead\n",
            "\n",
            "See the caveats in the documentation: https://pandas.pydata.org/pandas-docs/stable/user_guide/indexing.html#returning-a-view-versus-a-copy\n",
            "  \n",
            "/opt/conda/lib/python3.7/site-packages/ipykernel_launcher.py:7: SettingWithCopyWarning: \n",
            "A value is trying to be set on a copy of a slice from a DataFrame.\n",
            "Try using .loc[row_indexer,col_indexer] = value instead\n",
            "\n",
            "See the caveats in the documentation: https://pandas.pydata.org/pandas-docs/stable/user_guide/indexing.html#returning-a-view-versus-a-copy\n",
            "  import sys\n",
            "/opt/conda/lib/python3.7/site-packages/ipykernel_launcher.py:8: SettingWithCopyWarning: \n",
            "A value is trying to be set on a copy of a slice from a DataFrame.\n",
            "Try using .loc[row_indexer,col_indexer] = value instead\n",
            "\n",
            "See the caveats in the documentation: https://pandas.pydata.org/pandas-docs/stable/user_guide/indexing.html#returning-a-view-versus-a-copy\n",
            "  \n"
          ],
          "name": "stderr"
        }
      ]
    },
    {
      "cell_type": "code",
      "metadata": {
        "id": "-lN0_LKw1b97",
        "outputId": "92328e34-4601-4055-a9a6-d176b9ade352"
      },
      "source": [
        "df_base_num['ind'] = df_base_num['ind'].replace(np.nan,0)\n",
        "df_base_num.info()"
      ],
      "execution_count": null,
      "outputs": [
        {
          "output_type": "stream",
          "text": [
            "<class 'pandas.core.frame.DataFrame'>\n",
            "RangeIndex: 281666 entries, 0 to 281665\n",
            "Data columns (total 40 columns):\n",
            " #   Column                         Non-Null Count   Dtype  \n",
            "---  ------                         --------------   -----  \n",
            " 0   periodo                        281666 non-null  int64  \n",
            " 1   id_cli                         281666 non-null  int64  \n",
            " 2   fecha_nacimiento               281666 non-null  int64  \n",
            " 3   edad                           281666 non-null  float64\n",
            " 4   ult_actual                     281666 non-null  int64  \n",
            " 5   categoria                      281666 non-null  int64  \n",
            " 6   codigo_ciiu                    281666 non-null  int64  \n",
            " 7   mora_max                       281666 non-null  int64  \n",
            " 8   cant_moras_30_ult_12_meses     281666 non-null  int64  \n",
            " 9   cant_moras_60_ult_12_meses     281666 non-null  int64  \n",
            " 10  cant_moras_90_ult_12_meses     281666 non-null  int64  \n",
            " 11  cupo_total_tc                  281666 non-null  float64\n",
            " 12  cuota_tc_bancolombia           281666 non-null  float64\n",
            " 13  nro_tot_cuentas                281666 non-null  int64  \n",
            " 14  ctas_activas                   281666 non-null  int64  \n",
            " 15  ctas_embargadas                281666 non-null  int64  \n",
            " 16  cuota_cred_hipot               281666 non-null  float64\n",
            " 17  mediana_nom3                   281666 non-null  float64\n",
            " 18  mediana_pen3                   281666 non-null  float64\n",
            " 19  ingreso_nompen                 281666 non-null  float64\n",
            " 20  ingreso_final                  281666 non-null  float64\n",
            " 21  cant_mora_30_tdc_ult_3m_sf     281666 non-null  float64\n",
            " 22  cant_mora_30_consum_ult_3m_sf  281666 non-null  float64\n",
            " 23  cuota_de_vivienda              281666 non-null  float64\n",
            " 24  cuota_de_consumo               281666 non-null  float64\n",
            " 25  cuota_rotativos                281666 non-null  float64\n",
            " 26  cuota_tarjeta_de_credito       281666 non-null  float64\n",
            " 27  cuota_de_sector_solidario      281666 non-null  float64\n",
            " 28  cuota_sector_real_comercio     281666 non-null  float64\n",
            " 29  cupo_tc_mdo                    281666 non-null  float64\n",
            " 30  saldo_prom3_tdc_mdo            281666 non-null  float64\n",
            " 31  cuota_tc_mdo                   281666 non-null  float64\n",
            " 32  saldo_no_rot_mdo               281666 non-null  float64\n",
            " 33  cuota_libranza_sf              281666 non-null  float64\n",
            " 34  cant_oblig_tot_sf              281666 non-null  float64\n",
            " 35  cant_cast_ult_12m_sr           281666 non-null  float64\n",
            " 36  ind                            281666 non-null  float64\n",
            " 37  pol_centr_ext                  281666 non-null  float64\n",
            " 38  ingreso_nomina                 281666 non-null  float64\n",
            " 39  ingreso_segurida_social        281666 non-null  int64  \n",
            "dtypes: float64(26), int64(14)\n",
            "memory usage: 86.0 MB\n"
          ],
          "name": "stdout"
        },
        {
          "output_type": "stream",
          "text": [
            "/opt/conda/lib/python3.7/site-packages/ipykernel_launcher.py:1: SettingWithCopyWarning: \n",
            "A value is trying to be set on a copy of a slice from a DataFrame.\n",
            "Try using .loc[row_indexer,col_indexer] = value instead\n",
            "\n",
            "See the caveats in the documentation: https://pandas.pydata.org/pandas-docs/stable/user_guide/indexing.html#returning-a-view-versus-a-copy\n",
            "  \"\"\"Entry point for launching an IPython kernel.\n"
          ],
          "name": "stderr"
        }
      ]
    },
    {
      "cell_type": "code",
      "metadata": {
        "id": "Dp5C9q4M1b98",
        "outputId": "8038948a-a08a-4d4e-d25b-4507021b1d59"
      },
      "source": [
        "df_base_num.isnull().apply(pd.Series.value_counts)"
      ],
      "execution_count": null,
      "outputs": [
        {
          "output_type": "execute_result",
          "data": {
            "text/html": [
              "<div>\n",
              "<style scoped>\n",
              "    .dataframe tbody tr th:only-of-type {\n",
              "        vertical-align: middle;\n",
              "    }\n",
              "\n",
              "    .dataframe tbody tr th {\n",
              "        vertical-align: top;\n",
              "    }\n",
              "\n",
              "    .dataframe thead th {\n",
              "        text-align: right;\n",
              "    }\n",
              "</style>\n",
              "<table border=\"1\" class=\"dataframe\">\n",
              "  <thead>\n",
              "    <tr style=\"text-align: right;\">\n",
              "      <th></th>\n",
              "      <th>periodo</th>\n",
              "      <th>id_cli</th>\n",
              "      <th>fecha_nacimiento</th>\n",
              "      <th>edad</th>\n",
              "      <th>ult_actual</th>\n",
              "      <th>categoria</th>\n",
              "      <th>codigo_ciiu</th>\n",
              "      <th>mora_max</th>\n",
              "      <th>cant_moras_30_ult_12_meses</th>\n",
              "      <th>cant_moras_60_ult_12_meses</th>\n",
              "      <th>...</th>\n",
              "      <th>saldo_prom3_tdc_mdo</th>\n",
              "      <th>cuota_tc_mdo</th>\n",
              "      <th>saldo_no_rot_mdo</th>\n",
              "      <th>cuota_libranza_sf</th>\n",
              "      <th>cant_oblig_tot_sf</th>\n",
              "      <th>cant_cast_ult_12m_sr</th>\n",
              "      <th>ind</th>\n",
              "      <th>pol_centr_ext</th>\n",
              "      <th>ingreso_nomina</th>\n",
              "      <th>ingreso_segurida_social</th>\n",
              "    </tr>\n",
              "  </thead>\n",
              "  <tbody>\n",
              "    <tr>\n",
              "      <th>False</th>\n",
              "      <td>281666</td>\n",
              "      <td>281666</td>\n",
              "      <td>281666</td>\n",
              "      <td>281666</td>\n",
              "      <td>281666</td>\n",
              "      <td>281666</td>\n",
              "      <td>281666</td>\n",
              "      <td>281666</td>\n",
              "      <td>281666</td>\n",
              "      <td>281666</td>\n",
              "      <td>...</td>\n",
              "      <td>281666</td>\n",
              "      <td>281666</td>\n",
              "      <td>281666</td>\n",
              "      <td>281666</td>\n",
              "      <td>281666</td>\n",
              "      <td>281666</td>\n",
              "      <td>281666</td>\n",
              "      <td>281666</td>\n",
              "      <td>281666</td>\n",
              "      <td>281666</td>\n",
              "    </tr>\n",
              "  </tbody>\n",
              "</table>\n",
              "<p>1 rows × 40 columns</p>\n",
              "</div>"
            ],
            "text/plain": [
              "       periodo  id_cli  fecha_nacimiento    edad  ult_actual  categoria  \\\n",
              "False   281666  281666            281666  281666      281666     281666   \n",
              "\n",
              "       codigo_ciiu  mora_max  cant_moras_30_ult_12_meses  \\\n",
              "False       281666    281666                      281666   \n",
              "\n",
              "       cant_moras_60_ult_12_meses  ...  saldo_prom3_tdc_mdo  cuota_tc_mdo  \\\n",
              "False                      281666  ...               281666        281666   \n",
              "\n",
              "       saldo_no_rot_mdo  cuota_libranza_sf  cant_oblig_tot_sf  \\\n",
              "False            281666             281666             281666   \n",
              "\n",
              "       cant_cast_ult_12m_sr     ind  pol_centr_ext  ingreso_nomina  \\\n",
              "False                281666  281666         281666          281666   \n",
              "\n",
              "       ingreso_segurida_social  \n",
              "False                   281666  \n",
              "\n",
              "[1 rows x 40 columns]"
            ]
          },
          "metadata": {
            "tags": []
          },
          "execution_count": 32
        }
      ]
    },
    {
      "cell_type": "code",
      "metadata": {
        "id": "RllYwfuw1b98",
        "outputId": "c479f2d5-974d-461d-f5ee-aa2b350a115e"
      },
      "source": [
        "df_base_num = pd.concat([df_base_num, df_base['id_registro']],axis=1)\n",
        "df_base_num.head()"
      ],
      "execution_count": null,
      "outputs": [
        {
          "output_type": "execute_result",
          "data": {
            "text/html": [
              "<div>\n",
              "<style scoped>\n",
              "    .dataframe tbody tr th:only-of-type {\n",
              "        vertical-align: middle;\n",
              "    }\n",
              "\n",
              "    .dataframe tbody tr th {\n",
              "        vertical-align: top;\n",
              "    }\n",
              "\n",
              "    .dataframe thead th {\n",
              "        text-align: right;\n",
              "    }\n",
              "</style>\n",
              "<table border=\"1\" class=\"dataframe\">\n",
              "  <thead>\n",
              "    <tr style=\"text-align: right;\">\n",
              "      <th></th>\n",
              "      <th>periodo</th>\n",
              "      <th>id_cli</th>\n",
              "      <th>fecha_nacimiento</th>\n",
              "      <th>edad</th>\n",
              "      <th>ult_actual</th>\n",
              "      <th>categoria</th>\n",
              "      <th>codigo_ciiu</th>\n",
              "      <th>mora_max</th>\n",
              "      <th>cant_moras_30_ult_12_meses</th>\n",
              "      <th>cant_moras_60_ult_12_meses</th>\n",
              "      <th>...</th>\n",
              "      <th>cuota_tc_mdo</th>\n",
              "      <th>saldo_no_rot_mdo</th>\n",
              "      <th>cuota_libranza_sf</th>\n",
              "      <th>cant_oblig_tot_sf</th>\n",
              "      <th>cant_cast_ult_12m_sr</th>\n",
              "      <th>ind</th>\n",
              "      <th>pol_centr_ext</th>\n",
              "      <th>ingreso_nomina</th>\n",
              "      <th>ingreso_segurida_social</th>\n",
              "      <th>id_registro</th>\n",
              "    </tr>\n",
              "  </thead>\n",
              "  <tbody>\n",
              "    <tr>\n",
              "      <th>0</th>\n",
              "      <td>201902</td>\n",
              "      <td>12154</td>\n",
              "      <td>19430621</td>\n",
              "      <td>75.575633</td>\n",
              "      <td>20180525</td>\n",
              "      <td>1</td>\n",
              "      <td>10</td>\n",
              "      <td>0</td>\n",
              "      <td>0</td>\n",
              "      <td>0</td>\n",
              "      <td>...</td>\n",
              "      <td>0.0</td>\n",
              "      <td>262000.0</td>\n",
              "      <td>0.0</td>\n",
              "      <td>1.0</td>\n",
              "      <td>0.0</td>\n",
              "      <td>6.412382e+06</td>\n",
              "      <td>1.0</td>\n",
              "      <td>0.0</td>\n",
              "      <td>0</td>\n",
              "      <td>12154#201902</td>\n",
              "    </tr>\n",
              "    <tr>\n",
              "      <th>1</th>\n",
              "      <td>201902</td>\n",
              "      <td>374</td>\n",
              "      <td>19810909</td>\n",
              "      <td>37.355236</td>\n",
              "      <td>20170520</td>\n",
              "      <td>1</td>\n",
              "      <td>10</td>\n",
              "      <td>0</td>\n",
              "      <td>0</td>\n",
              "      <td>0</td>\n",
              "      <td>...</td>\n",
              "      <td>0.0</td>\n",
              "      <td>0.0</td>\n",
              "      <td>0.0</td>\n",
              "      <td>1.0</td>\n",
              "      <td>0.0</td>\n",
              "      <td>1.323586e+05</td>\n",
              "      <td>0.0</td>\n",
              "      <td>0.0</td>\n",
              "      <td>0</td>\n",
              "      <td>374#201902</td>\n",
              "    </tr>\n",
              "    <tr>\n",
              "      <th>2</th>\n",
              "      <td>201902</td>\n",
              "      <td>7365</td>\n",
              "      <td>19810311</td>\n",
              "      <td>37.853525</td>\n",
              "      <td>20180525</td>\n",
              "      <td>1</td>\n",
              "      <td>10</td>\n",
              "      <td>1</td>\n",
              "      <td>0</td>\n",
              "      <td>0</td>\n",
              "      <td>...</td>\n",
              "      <td>35000.0</td>\n",
              "      <td>0.0</td>\n",
              "      <td>0.0</td>\n",
              "      <td>1.0</td>\n",
              "      <td>0.0</td>\n",
              "      <td>1.394262e+06</td>\n",
              "      <td>0.0</td>\n",
              "      <td>0.0</td>\n",
              "      <td>0</td>\n",
              "      <td>7365#201902</td>\n",
              "    </tr>\n",
              "    <tr>\n",
              "      <th>3</th>\n",
              "      <td>201902</td>\n",
              "      <td>16314</td>\n",
              "      <td>19781030</td>\n",
              "      <td>40.216290</td>\n",
              "      <td>20180912</td>\n",
              "      <td>1</td>\n",
              "      <td>10</td>\n",
              "      <td>0</td>\n",
              "      <td>0</td>\n",
              "      <td>0</td>\n",
              "      <td>...</td>\n",
              "      <td>0.0</td>\n",
              "      <td>8323000.0</td>\n",
              "      <td>0.0</td>\n",
              "      <td>0.0</td>\n",
              "      <td>44.0</td>\n",
              "      <td>3.483775e+06</td>\n",
              "      <td>8.0</td>\n",
              "      <td>0.0</td>\n",
              "      <td>0</td>\n",
              "      <td>16314#201902</td>\n",
              "    </tr>\n",
              "    <tr>\n",
              "      <th>4</th>\n",
              "      <td>201902</td>\n",
              "      <td>19374</td>\n",
              "      <td>19790903</td>\n",
              "      <td>39.373032</td>\n",
              "      <td>20181123</td>\n",
              "      <td>3</td>\n",
              "      <td>8699</td>\n",
              "      <td>0</td>\n",
              "      <td>0</td>\n",
              "      <td>0</td>\n",
              "      <td>...</td>\n",
              "      <td>1176000.0</td>\n",
              "      <td>0.0</td>\n",
              "      <td>0.0</td>\n",
              "      <td>12.0</td>\n",
              "      <td>0.0</td>\n",
              "      <td>5.554769e+07</td>\n",
              "      <td>0.0</td>\n",
              "      <td>0.0</td>\n",
              "      <td>0</td>\n",
              "      <td>19374#201902</td>\n",
              "    </tr>\n",
              "  </tbody>\n",
              "</table>\n",
              "<p>5 rows × 41 columns</p>\n",
              "</div>"
            ],
            "text/plain": [
              "   periodo  id_cli  fecha_nacimiento       edad  ult_actual  categoria  \\\n",
              "0   201902   12154          19430621  75.575633    20180525          1   \n",
              "1   201902     374          19810909  37.355236    20170520          1   \n",
              "2   201902    7365          19810311  37.853525    20180525          1   \n",
              "3   201902   16314          19781030  40.216290    20180912          1   \n",
              "4   201902   19374          19790903  39.373032    20181123          3   \n",
              "\n",
              "   codigo_ciiu  mora_max  cant_moras_30_ult_12_meses  \\\n",
              "0           10         0                           0   \n",
              "1           10         0                           0   \n",
              "2           10         1                           0   \n",
              "3           10         0                           0   \n",
              "4         8699         0                           0   \n",
              "\n",
              "   cant_moras_60_ult_12_meses  ...  cuota_tc_mdo  saldo_no_rot_mdo  \\\n",
              "0                           0  ...           0.0          262000.0   \n",
              "1                           0  ...           0.0               0.0   \n",
              "2                           0  ...       35000.0               0.0   \n",
              "3                           0  ...           0.0         8323000.0   \n",
              "4                           0  ...     1176000.0               0.0   \n",
              "\n",
              "   cuota_libranza_sf  cant_oblig_tot_sf  cant_cast_ult_12m_sr           ind  \\\n",
              "0                0.0                1.0                   0.0  6.412382e+06   \n",
              "1                0.0                1.0                   0.0  1.323586e+05   \n",
              "2                0.0                1.0                   0.0  1.394262e+06   \n",
              "3                0.0                0.0                  44.0  3.483775e+06   \n",
              "4                0.0               12.0                   0.0  5.554769e+07   \n",
              "\n",
              "   pol_centr_ext  ingreso_nomina  ingreso_segurida_social   id_registro  \n",
              "0            1.0             0.0                        0  12154#201902  \n",
              "1            0.0             0.0                        0    374#201902  \n",
              "2            0.0             0.0                        0   7365#201902  \n",
              "3            8.0             0.0                        0  16314#201902  \n",
              "4            0.0             0.0                        0  19374#201902  \n",
              "\n",
              "[5 rows x 41 columns]"
            ]
          },
          "metadata": {
            "tags": []
          },
          "execution_count": 34
        }
      ]
    },
    {
      "cell_type": "code",
      "metadata": {
        "id": "Yy5i7yR71b98",
        "outputId": "af0449e2-69fb-4ebc-c129-5f11226b90d3"
      },
      "source": [
        "df_base_num.shape"
      ],
      "execution_count": null,
      "outputs": [
        {
          "output_type": "execute_result",
          "data": {
            "text/plain": [
              "(281666, 41)"
            ]
          },
          "metadata": {
            "tags": []
          },
          "execution_count": 35
        }
      ]
    },
    {
      "cell_type": "code",
      "metadata": {
        "id": "e4tje7WC1b99"
      },
      "source": [
        "x_test = df_base_num.loc[:, ['periodo', 'id_cli', 'edad', 'categoria', 'mora_max',\n",
        "                             'nro_tot_cuentas', 'ctas_activas', 'ctas_embargadas', \n",
        "                             'ingreso_nompen', 'cant_cast_ult_12m_sr', 'ind', \n",
        "                             'ingreso_nomina', 'ingreso_segurida_social'\n",
        "                            ]].values"
      ],
      "execution_count": null,
      "outputs": []
    },
    {
      "cell_type": "code",
      "metadata": {
        "id": "vc-2XAOX1b99"
      },
      "source": [
        "y_predict = reg.predict(x_test)"
      ],
      "execution_count": null,
      "outputs": []
    },
    {
      "cell_type": "code",
      "metadata": {
        "id": "lLpjBdvG1b99",
        "outputId": "e5e2f764-5355-4175-8271-01f2504709a3"
      },
      "source": [
        "type(y_predict)"
      ],
      "execution_count": null,
      "outputs": [
        {
          "output_type": "execute_result",
          "data": {
            "text/plain": [
              "numpy.ndarray"
            ]
          },
          "metadata": {
            "tags": []
          },
          "execution_count": 38
        }
      ]
    },
    {
      "cell_type": "code",
      "metadata": {
        "id": "VDw26HK51b9-",
        "outputId": "91acb13b-a7ad-4424-e6c1-a373eaa0e898"
      },
      "source": [
        "# Creando DataFrame con respuestas\n",
        "\n",
        "y_test = pd.DataFrame(y_predict)\n",
        "y_test.columns = ['gasto_familiar']\n",
        "\n",
        "y_test.shape"
      ],
      "execution_count": null,
      "outputs": [
        {
          "output_type": "execute_result",
          "data": {
            "text/plain": [
              "(281666, 1)"
            ]
          },
          "metadata": {
            "tags": []
          },
          "execution_count": 39
        }
      ]
    },
    {
      "cell_type": "code",
      "metadata": {
        "id": "LdiGZz4X1b9_",
        "outputId": "798d9852-5e7c-444e-bbbf-52f35227c1bc"
      },
      "source": [
        "result = pd.concat([df_base_num, y_test],axis=1)\n",
        "result.shape"
      ],
      "execution_count": null,
      "outputs": [
        {
          "output_type": "execute_result",
          "data": {
            "text/plain": [
              "(281666, 42)"
            ]
          },
          "metadata": {
            "tags": []
          },
          "execution_count": 40
        }
      ]
    },
    {
      "cell_type": "code",
      "metadata": {
        "id": "RHSeWziO1b9_",
        "outputId": "0a3a243a-0511-44ca-c1e9-e7d0493082d7"
      },
      "source": [
        "final = result.loc[:, ['id_registro', 'gasto_familiar']]\n",
        "final.shape"
      ],
      "execution_count": null,
      "outputs": [
        {
          "output_type": "execute_result",
          "data": {
            "text/plain": [
              "(281666, 2)"
            ]
          },
          "metadata": {
            "tags": []
          },
          "execution_count": 41
        }
      ]
    },
    {
      "cell_type": "code",
      "metadata": {
        "id": "vlCkakfN1b9_",
        "outputId": "2a75af56-cbfc-462d-a292-a499ad3b764d"
      },
      "source": [
        "final.head()"
      ],
      "execution_count": null,
      "outputs": [
        {
          "output_type": "execute_result",
          "data": {
            "text/html": [
              "<div>\n",
              "<style scoped>\n",
              "    .dataframe tbody tr th:only-of-type {\n",
              "        vertical-align: middle;\n",
              "    }\n",
              "\n",
              "    .dataframe tbody tr th {\n",
              "        vertical-align: top;\n",
              "    }\n",
              "\n",
              "    .dataframe thead th {\n",
              "        text-align: right;\n",
              "    }\n",
              "</style>\n",
              "<table border=\"1\" class=\"dataframe\">\n",
              "  <thead>\n",
              "    <tr style=\"text-align: right;\">\n",
              "      <th></th>\n",
              "      <th>id_registro</th>\n",
              "      <th>gasto_familiar</th>\n",
              "    </tr>\n",
              "  </thead>\n",
              "  <tbody>\n",
              "    <tr>\n",
              "      <th>0</th>\n",
              "      <td>12154#201902</td>\n",
              "      <td>8.266238e+05</td>\n",
              "    </tr>\n",
              "    <tr>\n",
              "      <th>1</th>\n",
              "      <td>374#201902</td>\n",
              "      <td>5.810985e+05</td>\n",
              "    </tr>\n",
              "    <tr>\n",
              "      <th>2</th>\n",
              "      <td>7365#201902</td>\n",
              "      <td>5.874233e+05</td>\n",
              "    </tr>\n",
              "    <tr>\n",
              "      <th>3</th>\n",
              "      <td>16314#201902</td>\n",
              "      <td>7.381682e+05</td>\n",
              "    </tr>\n",
              "    <tr>\n",
              "      <th>4</th>\n",
              "      <td>19374#201902</td>\n",
              "      <td>1.564337e+06</td>\n",
              "    </tr>\n",
              "  </tbody>\n",
              "</table>\n",
              "</div>"
            ],
            "text/plain": [
              "    id_registro  gasto_familiar\n",
              "0  12154#201902    8.266238e+05\n",
              "1    374#201902    5.810985e+05\n",
              "2   7365#201902    5.874233e+05\n",
              "3  16314#201902    7.381682e+05\n",
              "4  19374#201902    1.564337e+06"
            ]
          },
          "metadata": {
            "tags": []
          },
          "execution_count": 42
        }
      ]
    },
    {
      "cell_type": "code",
      "metadata": {
        "id": "lZ4r1DZj1b-A"
      },
      "source": [
        "final.to_csv('final.csv', index = False)"
      ],
      "execution_count": null,
      "outputs": []
    },
    {
      "cell_type": "code",
      "metadata": {
        "id": "khhuiFw21b-A",
        "outputId": "336e994e-11d8-449a-b837-5f6ed09614a2"
      },
      "source": [
        ""
      ],
      "execution_count": null,
      "outputs": [
        {
          "output_type": "execute_result",
          "data": {
            "text/plain": [
              "array(['NO', 'SI'], dtype=object)"
            ]
          },
          "metadata": {
            "tags": []
          },
          "execution_count": 55
        }
      ]
    },
    {
      "cell_type": "code",
      "metadata": {
        "id": "GsggnCbJ1b-A",
        "outputId": "5e56b036-02d7-426a-a576-7cd36c01c76d"
      },
      "source": [
        ""
      ],
      "execution_count": null,
      "outputs": [
        {
          "output_type": "execute_result",
          "data": {
            "text/plain": [
              "array(['NOM', '\\\\N', 'PEN', 'NOM PEN'], dtype=object)"
            ]
          },
          "metadata": {
            "tags": []
          },
          "execution_count": 60
        }
      ]
    },
    {
      "cell_type": "code",
      "metadata": {
        "id": "gfAJO03z1b-B",
        "outputId": "07e81728-bccf-4f3c-8bb0-87548a5e54e7"
      },
      "source": [
        "df['tiene_ctas_activas'].unique()"
      ],
      "execution_count": null,
      "outputs": [
        {
          "output_type": "execute_result",
          "data": {
            "text/plain": [
              "array(['X', '\\\\N'], dtype=object)"
            ]
          },
          "metadata": {
            "tags": []
          },
          "execution_count": 84
        }
      ]
    },
    {
      "cell_type": "code",
      "metadata": {
        "id": "vMTdeq8c1b-B",
        "outputId": "399ff438-9159-435b-907f-bedecb930802"
      },
      "source": [
        "# Me determina cuales puedo convertir a numero para analizar\n",
        "\n",
        "(df == '\\\\N').apply(pd.Series.value_counts)"
      ],
      "execution_count": null,
      "outputs": [
        {
          "output_type": "execute_result",
          "data": {
            "text/html": [
              "<div>\n",
              "<style scoped>\n",
              "    .dataframe tbody tr th:only-of-type {\n",
              "        vertical-align: middle;\n",
              "    }\n",
              "\n",
              "    .dataframe tbody tr th {\n",
              "        vertical-align: top;\n",
              "    }\n",
              "\n",
              "    .dataframe thead th {\n",
              "        text-align: right;\n",
              "    }\n",
              "</style>\n",
              "<table border=\"1\" class=\"dataframe\">\n",
              "  <thead>\n",
              "    <tr style=\"text-align: right;\">\n",
              "      <th></th>\n",
              "      <th>periodo</th>\n",
              "      <th>id_cli</th>\n",
              "      <th>fecha_nacimiento</th>\n",
              "      <th>edad</th>\n",
              "      <th>genero</th>\n",
              "      <th>estado_civil</th>\n",
              "      <th>nivel_academico</th>\n",
              "      <th>profesion</th>\n",
              "      <th>ocupacion</th>\n",
              "      <th>tipo_vivienda</th>\n",
              "      <th>...</th>\n",
              "      <th>cuota_libranza_sf</th>\n",
              "      <th>cant_oblig_tot_sf</th>\n",
              "      <th>cant_cast_ult_12m_sr</th>\n",
              "      <th>ind</th>\n",
              "      <th>rep_calif_cred</th>\n",
              "      <th>pol_centr_ext</th>\n",
              "      <th>convenio_lib</th>\n",
              "      <th>ingreso_nomina</th>\n",
              "      <th>ingreso_segurida_social</th>\n",
              "      <th>gasto_familiar</th>\n",
              "    </tr>\n",
              "  </thead>\n",
              "  <tbody>\n",
              "    <tr>\n",
              "      <th>False</th>\n",
              "      <td>20823707.0</td>\n",
              "      <td>20823707.0</td>\n",
              "      <td>20823707.0</td>\n",
              "      <td>20823707.0</td>\n",
              "      <td>20823707.0</td>\n",
              "      <td>20730074</td>\n",
              "      <td>20823707.0</td>\n",
              "      <td>14734502</td>\n",
              "      <td>20814309</td>\n",
              "      <td>10899689</td>\n",
              "      <td>...</td>\n",
              "      <td>20823707.0</td>\n",
              "      <td>20823707.0</td>\n",
              "      <td>20823707.0</td>\n",
              "      <td>20823707.0</td>\n",
              "      <td>20823707.0</td>\n",
              "      <td>20823707.0</td>\n",
              "      <td>3042999</td>\n",
              "      <td>20823707.0</td>\n",
              "      <td>20823707.0</td>\n",
              "      <td>20823707.0</td>\n",
              "    </tr>\n",
              "    <tr>\n",
              "      <th>True</th>\n",
              "      <td>NaN</td>\n",
              "      <td>NaN</td>\n",
              "      <td>NaN</td>\n",
              "      <td>NaN</td>\n",
              "      <td>NaN</td>\n",
              "      <td>93633</td>\n",
              "      <td>NaN</td>\n",
              "      <td>6089205</td>\n",
              "      <td>9398</td>\n",
              "      <td>9924018</td>\n",
              "      <td>...</td>\n",
              "      <td>NaN</td>\n",
              "      <td>NaN</td>\n",
              "      <td>NaN</td>\n",
              "      <td>NaN</td>\n",
              "      <td>NaN</td>\n",
              "      <td>NaN</td>\n",
              "      <td>17780708</td>\n",
              "      <td>NaN</td>\n",
              "      <td>NaN</td>\n",
              "      <td>NaN</td>\n",
              "    </tr>\n",
              "  </tbody>\n",
              "</table>\n",
              "<p>2 rows × 65 columns</p>\n",
              "</div>"
            ],
            "text/plain": [
              "          periodo      id_cli  fecha_nacimiento        edad      genero  \\\n",
              "False  20823707.0  20823707.0        20823707.0  20823707.0  20823707.0   \n",
              "True          NaN         NaN               NaN         NaN         NaN   \n",
              "\n",
              "       estado_civil  nivel_academico  profesion  ocupacion  tipo_vivienda  \\\n",
              "False      20730074       20823707.0   14734502   20814309       10899689   \n",
              "True          93633              NaN    6089205       9398        9924018   \n",
              "\n",
              "       ...  cuota_libranza_sf  cant_oblig_tot_sf  cant_cast_ult_12m_sr  \\\n",
              "False  ...         20823707.0         20823707.0            20823707.0   \n",
              "True   ...                NaN                NaN                   NaN   \n",
              "\n",
              "              ind  rep_calif_cred  pol_centr_ext  convenio_lib  \\\n",
              "False  20823707.0      20823707.0     20823707.0       3042999   \n",
              "True          NaN             NaN            NaN      17780708   \n",
              "\n",
              "       ingreso_nomina  ingreso_segurida_social  gasto_familiar  \n",
              "False      20823707.0               20823707.0      20823707.0  \n",
              "True              NaN                      NaN             NaN  \n",
              "\n",
              "[2 rows x 65 columns]"
            ]
          },
          "metadata": {
            "tags": []
          },
          "execution_count": 66
        }
      ]
    },
    {
      "cell_type": "code",
      "metadata": {
        "id": "fJy0Qb321b-B"
      },
      "source": [
        ""
      ],
      "execution_count": null,
      "outputs": []
    },
    {
      "cell_type": "code",
      "metadata": {
        "id": "8ZHK1Je11b-C"
      },
      "source": [
        ""
      ],
      "execution_count": null,
      "outputs": []
    },
    {
      "cell_type": "code",
      "metadata": {
        "id": "ejel6TBV1b-C"
      },
      "source": [
        ""
      ],
      "execution_count": null,
      "outputs": []
    }
  ]
}