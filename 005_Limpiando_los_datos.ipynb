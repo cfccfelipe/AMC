{
  "nbformat": 4,
  "nbformat_minor": 0,
  "metadata": {
    "colab": {
      "name": "005_Limpiando los datos.ipynb",
      "provenance": [],
      "collapsed_sections": [],
      "authorship_tag": "ABX9TyOFSOAvau6zDLEEkQugVEMR",
      "include_colab_link": true
    },
    "kernelspec": {
      "name": "python3",
      "display_name": "Python 3"
    }
  },
  "cells": [
    {
      "cell_type": "markdown",
      "metadata": {
        "id": "view-in-github",
        "colab_type": "text"
      },
      "source": [
        "<a href=\"https://colab.research.google.com/github/cfccfelipe/AMC/blob/main/005_Limpiando_los_datos.ipynb\" target=\"_parent\"><img src=\"https://colab.research.google.com/assets/colab-badge.svg\" alt=\"Open In Colab\"/></a>"
      ]
    },
    {
      "cell_type": "code",
      "metadata": {
        "colab": {
          "base_uri": "https://localhost:8080/"
        },
        "id": "s1PJx9F1Pxa_",
        "outputId": "6003c2af-e656-4a38-c444-ffda39f25334"
      },
      "source": [
        "! wget https://dataton2020train.s3.amazonaws.com/Dataton_train_semicolon.zip"
      ],
      "execution_count": null,
      "outputs": [
        {
          "output_type": "stream",
          "text": [
            "--2021-01-25 00:15:24--  https://dataton2020train.s3.amazonaws.com/Dataton_train_semicolon.zip\n",
            "Resolving dataton2020train.s3.amazonaws.com (dataton2020train.s3.amazonaws.com)... 52.216.20.99\n",
            "Connecting to dataton2020train.s3.amazonaws.com (dataton2020train.s3.amazonaws.com)|52.216.20.99|:443... connected.\n",
            "HTTP request sent, awaiting response... 200 OK\n",
            "Length: 984345919 (939M) [application/zip]\n",
            "Saving to: ‘Dataton_train_semicolon.zip’\n",
            "\n",
            "Dataton_train_semic 100%[===================>] 938.75M  6.31MB/s    in 4m 49s  \n",
            "\n",
            "2021-01-25 00:20:14 (3.25 MB/s) - ‘Dataton_train_semicolon.zip’ saved [984345919/984345919]\n",
            "\n"
          ],
          "name": "stdout"
        }
      ]
    },
    {
      "cell_type": "code",
      "metadata": {
        "colab": {
          "base_uri": "https://localhost:8080/"
        },
        "id": "SlphV9_0Q2z_",
        "outputId": "ebcc44bf-c95d-44f1-eef5-134cc65c13e0"
      },
      "source": [
        "! unzip /content/Dataton_train_semicolon.zip"
      ],
      "execution_count": null,
      "outputs": [
        {
          "output_type": "stream",
          "text": [
            "Archive:  /content/Dataton_train_semicolon.zip\n",
            "  inflating: Dataton_train_semicolon.csv  \n",
            "  inflating: header.txt              \n"
          ],
          "name": "stdout"
        }
      ]
    },
    {
      "cell_type": "code",
      "metadata": {
        "id": "rv7g6X948IL6"
      },
      "source": [
        "# Extraccion de los headers \r\n",
        "\r\n",
        "import csv\r\n",
        "headerfile = open('/content/header.txt', 'r')\r\n",
        "reader = csv.reader(headerfile)\r\n",
        "allrows = [row for row in reader]\r\n",
        "cols_name = allrows[0]"
      ],
      "execution_count": null,
      "outputs": []
    },
    {
      "cell_type": "code",
      "metadata": {
        "id": "2zoarmb6SKAT"
      },
      "source": [
        "#df = pd.read_csv('/content/Dataton_train_semicolon.csv', sep=';', error_bad_lines=False, names = cols_name, nrows=6000000, low_memory=False)\r\n",
        "#df2 = pd.read_csv('/content/Dataton_train_semicolon.csv', sep=';', error_bad_lines=False, warn_bad_lines=True, header=None, skiprows=7000000, nrows=2000000, dtype='unicode', engine='c',)\r\n",
        "\r\n",
        "import numpy as np\r\n",
        "import pandas as pd"
      ],
      "execution_count": null,
      "outputs": []
    },
    {
      "cell_type": "code",
      "metadata": {
        "id": "2rSw3GXG4qt4"
      },
      "source": [
        "# Extraccion del DataFrame de 5.000.000 de registros \r\n",
        "df = pd.read_csv('/content/Dataton_train_semicolon.csv', sep=';', error_bad_lines=False, names = cols_name, nrows=5000000, low_memory=False, engine='c' )\r\n"
      ],
      "execution_count": null,
      "outputs": []
    },
    {
      "cell_type": "code",
      "metadata": {
        "colab": {
          "base_uri": "https://localhost:8080/"
        },
        "id": "hBeW28PHCPnh",
        "outputId": "5ebab0e5-5a85-4d78-a5ea-127956291b9c"
      },
      "source": [
        "df.shape"
      ],
      "execution_count": null,
      "outputs": [
        {
          "output_type": "execute_result",
          "data": {
            "text/plain": [
              "(5000000, 65)"
            ]
          },
          "metadata": {
            "tags": []
          },
          "execution_count": 4
        }
      ]
    },
    {
      "cell_type": "code",
      "metadata": {
        "colab": {
          "base_uri": "https://localhost:8080/"
        },
        "id": "axeZDvJhI_E-",
        "outputId": "db5059d3-0ae8-4d4a-d84b-89a7185980e7"
      },
      "source": [
        "pd.set_option('display.max_rows', 65)\r\n",
        "df.dtypes"
      ],
      "execution_count": null,
      "outputs": [
        {
          "output_type": "execute_result",
          "data": {
            "text/plain": [
              "periodo                            int64\n",
              "id_cli                             int64\n",
              "fecha_nacimiento                   int64\n",
              "edad                             float64\n",
              "genero                            object\n",
              "estado_civil                      object\n",
              "nivel_academico                   object\n",
              "profesion                         object\n",
              "ocupacion                         object\n",
              "tipo_vivienda                     object\n",
              "ult_actual                         int64\n",
              "categoria                        float64\n",
              "codigo_ciiu                        int64\n",
              "ind_mora_vigente                  object\n",
              "cartera_castigada                 object\n",
              "ciudad_residencia                 object\n",
              "departamento_residencia           object\n",
              "ciudad_laboral                    object\n",
              "departamento_laboral              object\n",
              "rechazo_credito                   object\n",
              "mora_max                         float64\n",
              "cant_moras_30_ult_12_meses       float64\n",
              "cant_moras_60_ult_12_meses       float64\n",
              "cant_moras_90_ult_12_meses       float64\n",
              "cupo_total_tc                    float64\n",
              "tenencia_tc                       object\n",
              "cuota_tc_bancolombia             float64\n",
              "tiene_consumo                     object\n",
              "tiene_crediagil                   object\n",
              "nro_tot_cuentas                  float64\n",
              "ctas_activas                     float64\n",
              "tiene_ctas_activas                object\n",
              "ctas_embargadas                  float64\n",
              "tiene_ctas_embargadas             object\n",
              "pension_fopep                     object\n",
              "cuota_cred_hipot                 float64\n",
              "tiene_cred_hipo_1                 object\n",
              "tiene_cred_hipo_2                 object\n",
              "mediana_nom3                     float64\n",
              "mediana_pen3                     float64\n",
              "ingreso_nompen                   float64\n",
              "cat_ingreso                       object\n",
              "ingreso_final                    float64\n",
              "cant_mora_30_tdc_ult_3m_sf       float64\n",
              "cant_mora_30_consum_ult_3m_sf    float64\n",
              "cuota_de_vivienda                float64\n",
              "cuota_de_consumo                 float64\n",
              "cuota_rotativos                    int64\n",
              "cuota_tarjeta_de_credito           int64\n",
              "cuota_de_sector_solidario          int64\n",
              "cuota_sector_real_comercio         int64\n",
              "cupo_tc_mdo                        int64\n",
              "saldo_prom3_tdc_mdo              float64\n",
              "cuota_tc_mdo                       int64\n",
              "saldo_no_rot_mdo                   int64\n",
              "cuota_libranza_sf                  int64\n",
              "cant_oblig_tot_sf                float64\n",
              "cant_cast_ult_12m_sr             float64\n",
              "ind                              float64\n",
              "rep_calif_cred                    object\n",
              "pol_centr_ext                    float64\n",
              "convenio_lib                      object\n",
              "ingreso_nomina                   float64\n",
              "ingreso_segurida_social          float64\n",
              "gasto_familiar                   float64\n",
              "dtype: object"
            ]
          },
          "metadata": {
            "tags": []
          },
          "execution_count": 11
        }
      ]
    },
    {
      "cell_type": "code",
      "metadata": {
        "id": "Nuqt3qY7HIzB"
      },
      "source": [
        "# Convirtiendo los \\\\N de 'edad' en 0.0\r\n",
        "df ['edad'] = pd.to_numeric(df['edad'], errors='coerce')\r\n",
        "df['edad'] = df['edad'].replace(np.nan, 0, regex=True)"
      ],
      "execution_count": null,
      "outputs": []
    },
    {
      "cell_type": "code",
      "metadata": {
        "colab": {
          "base_uri": "https://localhost:8080/"
        },
        "id": "lCyQWy9GkOXU",
        "outputId": "db6b3067-32c3-42cc-c6a4-a4ad863edb9f"
      },
      "source": [
        "# Eliminando los datos con 'edad' < 18 \r\n",
        "\r\n",
        "indexAges = df[ (df['edad'] < 18)].index\r\n",
        "df.drop(indexAges , inplace=True)\r\n",
        "df.shape"
      ],
      "execution_count": null,
      "outputs": [
        {
          "output_type": "execute_result",
          "data": {
            "text/plain": [
              "(4998512, 65)"
            ]
          },
          "metadata": {
            "tags": []
          },
          "execution_count": 7
        }
      ]
    },
    {
      "cell_type": "code",
      "metadata": {
        "colab": {
          "base_uri": "https://localhost:8080/"
        },
        "id": "K-CkCS81nXH-",
        "outputId": "51fa8f8a-751b-4891-b6bb-ce63d38c7f2e"
      },
      "source": [
        "# Eliminar las filas que contienen los \\\\N\r\n",
        "\r\n",
        "# Primero convertir los \\\\N a NaN\r\n",
        "df ['categoria'] = pd.to_numeric(df['categoria'], errors='coerce')\r\n",
        "df ['nro_tot_cuentas'] = pd.to_numeric(df['nro_tot_cuentas'], errors='coerce')\r\n",
        "df ['ctas_activas'] = pd.to_numeric(df['ctas_activas'], errors='coerce')\r\n",
        "df ['ctas_embargadas'] = pd.to_numeric(df['ctas_embargadas'], errors='coerce')\r\n",
        "df ['ingreso_final'] = pd.to_numeric(df['ingreso_final'], errors='coerce')\r\n",
        "df ['ind'] = pd.to_numeric(df['ind'], errors='coerce')\r\n",
        "\r\n",
        "# Luego eliminar los NaN\r\n",
        "df.drop(df[df.categoria.isnull()].index, inplace = True)\r\n",
        "df.drop(df[df.nro_tot_cuentas.isnull()].index, inplace = True)\r\n",
        "df.drop(df[df.ctas_activas.isnull()].index, inplace = True)\r\n",
        "df.drop(df[df.ctas_embargadas.isnull()].index, inplace = True)\r\n",
        "df.drop(df[df.ingreso_final.isnull()].index, inplace = True)\r\n",
        "df.drop(df[df.ind.isnull()].index, inplace = True)\r\n",
        "\r\n",
        "df.shape"
      ],
      "execution_count": null,
      "outputs": [
        {
          "output_type": "execute_result",
          "data": {
            "text/plain": [
              "(4907655, 65)"
            ]
          },
          "metadata": {
            "tags": []
          },
          "execution_count": 8
        }
      ]
    },
    {
      "cell_type": "code",
      "metadata": {
        "colab": {
          "base_uri": "https://localhost:8080/"
        },
        "id": "_6l4UW9go33z",
        "outputId": "b16e31f8-0dbc-49a3-f469-b27cc854ad78"
      },
      "source": [
        "# Convertir los \\\\N  en 0\r\n",
        "\r\n",
        "# Primero convertir los \\\\N a NaN\r\n",
        "df ['mora_max'] = pd.to_numeric(df['mora_max'], errors='coerce')\r\n",
        "df ['cant_moras_30_ult_12_meses'] = pd.to_numeric(df['cant_moras_30_ult_12_meses'], errors='coerce')\r\n",
        "df ['cant_moras_60_ult_12_meses'] = pd.to_numeric(df['cant_moras_60_ult_12_meses'], errors='coerce')\r\n",
        "df ['cant_moras_90_ult_12_meses'] = pd.to_numeric(df['cant_moras_90_ult_12_meses'], errors='coerce')\r\n",
        "df ['cuota_cred_hipot'] = pd.to_numeric(df['cuota_cred_hipot'], errors='coerce')\r\n",
        "df ['cant_mora_30_tdc_ult_3m_sf'] = pd.to_numeric(df['cant_mora_30_tdc_ult_3m_sf'], errors='coerce')\r\n",
        "df ['cant_mora_30_consum_ult_3m_sf'] = pd.to_numeric(df['cant_mora_30_consum_ult_3m_sf'], errors='coerce')\r\n",
        "df ['cant_oblig_tot_sf'] = pd.to_numeric(df['cant_oblig_tot_sf'], errors='coerce')\r\n",
        "df ['cant_cast_ult_12m_sr'] = pd.to_numeric(df['cant_cast_ult_12m_sr'], errors='coerce')\r\n",
        "df ['pol_centr_ext'] = pd.to_numeric(df['pol_centr_ext'], errors='coerce')\r\n",
        "df ['ingreso_nomina'] = pd.to_numeric(df['ingreso_nomina'], errors='coerce')\r\n",
        "df ['ingreso_segurida_social'] = pd.to_numeric(df['ingreso_segurida_social'], errors='coerce')\r\n",
        "\r\n",
        "# Convirtiendo los NaN en 0\r\n",
        "df['mora_max'] = df['mora_max'].replace(np.nan, 0, regex=True)\r\n",
        "df['cant_moras_30_ult_12_meses'] = df['cant_moras_30_ult_12_meses'].replace(np.nan, 0, regex=True)\r\n",
        "df['cant_moras_60_ult_12_meses'] = df['cant_moras_60_ult_12_meses'].replace(np.nan, 0, regex=True)\r\n",
        "df['cant_moras_90_ult_12_meses'] = df['cant_moras_90_ult_12_meses'].replace(np.nan, 0, regex=True)\r\n",
        "df['cuota_cred_hipot'] = df['cuota_cred_hipot'].replace(np.nan, 0, regex=True)\r\n",
        "df['cant_mora_30_tdc_ult_3m_sf'] = df['cant_mora_30_tdc_ult_3m_sf'].replace(np.nan, 0, regex=True)\r\n",
        "df['cant_mora_30_consum_ult_3m_sf'] = df['cant_mora_30_consum_ult_3m_sf'].replace(np.nan, 0, regex=True)\r\n",
        "df['cant_oblig_tot_sf'] = df['cant_oblig_tot_sf'].replace(np.nan, 0, regex=True)\r\n",
        "df['cant_cast_ult_12m_sr'] = df['cant_cast_ult_12m_sr'].replace(np.nan, 0, regex=True)\r\n",
        "df['pol_centr_ext'] = df['pol_centr_ext'].replace(np.nan, 0, regex=True)\r\n",
        "df['ingreso_nomina'] = df['ingreso_nomina'].replace(np.nan, 0, regex=True)\r\n",
        "df['ingreso_segurida_social'] = df['ingreso_segurida_social'].replace(np.nan, 0, regex=True)\r\n",
        "\r\n",
        "df.shape"
      ],
      "execution_count": null,
      "outputs": [
        {
          "output_type": "execute_result",
          "data": {
            "text/plain": [
              "(4907655, 65)"
            ]
          },
          "metadata": {
            "tags": []
          },
          "execution_count": 9
        }
      ]
    },
    {
      "cell_type": "code",
      "metadata": {
        "colab": {
          "base_uri": "https://localhost:8080/"
        },
        "id": "c1zny_Hwq18o",
        "outputId": "bf98fac2-c333-4296-db86-11e7f4beda7a"
      },
      "source": [
        "# Convertir de float64 a int64\r\n",
        "\r\n",
        "df['categoria'] = df['categoria'].astype('int64')\r\n",
        "df['mora_max'] = df['mora_max'].astype('int64')\r\n",
        "df['cant_moras_30_ult_12_meses'] = df['cant_moras_30_ult_12_meses'].astype('int64')\r\n",
        "df['cant_moras_60_ult_12_meses'] = df['cant_moras_60_ult_12_meses'].astype('int64')\r\n",
        "df['cant_moras_90_ult_12_meses'] = df['cant_moras_90_ult_12_meses'].astype('int64')\r\n",
        "df['nro_tot_cuentas'] = df['nro_tot_cuentas'].astype('int64')\r\n",
        "df['ctas_activas'] = df['ctas_activas'].astype('int64')\r\n",
        "df['ctas_embargadas'] = df['ctas_embargadas'].astype('int64')\r\n",
        "df['ingreso_segurida_social'] = df['ingreso_segurida_social'].astype('int64')\r\n",
        "df.shape"
      ],
      "execution_count": null,
      "outputs": [
        {
          "output_type": "execute_result",
          "data": {
            "text/plain": [
              "(4907655, 65)"
            ]
          },
          "metadata": {
            "tags": []
          },
          "execution_count": 12
        }
      ]
    },
    {
      "cell_type": "code",
      "metadata": {
        "colab": {
          "base_uri": "https://localhost:8080/"
        },
        "id": "x75u42O6q12O",
        "outputId": "130cbb8b-e010-4002-abd3-35dbd30c26c2"
      },
      "source": [
        "# Convertir de int64 a float64\r\n",
        "\r\n",
        "df['cuota_rotativos'] = df['cuota_rotativos'].astype('float64')\r\n",
        "df['cuota_tarjeta_de_credito'] = df['cuota_tarjeta_de_credito'].astype('float64')\r\n",
        "df['cuota_de_sector_solidario'] = df['cuota_de_sector_solidario'].astype('float64')\r\n",
        "df['cuota_sector_real_comercio'] = df['cuota_sector_real_comercio'].astype('float64')\r\n",
        "df['cupo_tc_mdo'] = df['cupo_tc_mdo'].astype('float64')\r\n",
        "df['cuota_tc_mdo'] = df['cuota_tc_mdo'].astype('float64')\r\n",
        "df['saldo_no_rot_mdo'] = df['saldo_no_rot_mdo'].astype('float64')\r\n",
        "df['cuota_libranza_sf'] = df['cuota_libranza_sf'].astype('float64')\r\n",
        "df.shape"
      ],
      "execution_count": null,
      "outputs": [
        {
          "output_type": "execute_result",
          "data": {
            "text/plain": [
              "(4907655, 65)"
            ]
          },
          "metadata": {
            "tags": []
          },
          "execution_count": 15
        }
      ]
    },
    {
      "cell_type": "code",
      "metadata": {
        "colab": {
          "base_uri": "https://localhost:8080/"
        },
        "id": "01wHgdsXwvdV",
        "outputId": "9c32ef62-8f66-4d91-c537-f25260d162d9"
      },
      "source": [
        "df['cuota_rotativos'].dtype"
      ],
      "execution_count": null,
      "outputs": [
        {
          "output_type": "execute_result",
          "data": {
            "text/plain": [
              "dtype('float64')"
            ]
          },
          "metadata": {
            "tags": []
          },
          "execution_count": 17
        }
      ]
    },
    {
      "cell_type": "code",
      "metadata": {
        "id": "wBk86DaYq1ru"
      },
      "source": [
        "df.dtypes"
      ],
      "execution_count": null,
      "outputs": []
    },
    {
      "cell_type": "code",
      "metadata": {
        "id": "T470UEvpwAy0"
      },
      "source": [
        "# https://datatofish.com/convert-string-to-float-dataframe/\r\n",
        "# https://www.interactivechaos.com/es/python/scenario/eliminacion-de-filas-en-un-dataframe-pandas-partir-de-una-condicion\r\n",
        "# https://www.delftstack.com/es/howto/python-pandas/how-to-delete-dataframe-row-in-pandas-based-on-column-value/\r\n",
        "# https://www.analyticslane.com/2019/05/10/operaciones-de-filtrado-de-dataframe-con-pandas-en-base-a-los-valores-de-las-columnas/"
      ],
      "execution_count": null,
      "outputs": []
    },
    {
      "cell_type": "code",
      "metadata": {
        "id": "IouZlbVNwAvf"
      },
      "source": [
        ""
      ],
      "execution_count": null,
      "outputs": []
    },
    {
      "cell_type": "code",
      "metadata": {
        "id": "eksXM8FwwAng"
      },
      "source": [
        ""
      ],
      "execution_count": null,
      "outputs": []
    },
    {
      "cell_type": "code",
      "metadata": {
        "id": "sbDGOXfQJ9x1"
      },
      "source": [
        "#df['categoria'] = df['categoria'].astype('int64')\r\n",
        "\r\n",
        "df ['categoria'] = pd.to_numeric(df['categoria'], errors='coerce')\r\n",
        "df['categoria'] = df['categoria'].replace(np.nan, 0, regex=True)"
      ],
      "execution_count": null,
      "outputs": []
    },
    {
      "cell_type": "code",
      "metadata": {
        "colab": {
          "base_uri": "https://localhost:8080/"
        },
        "id": "CIiBSpy8Kl1T",
        "outputId": "3a3b06ba-538d-48f9-8365-ab17a4c62dd0"
      },
      "source": [
        "df['categoria'] = df['categoria'].astype('int64')\r\n",
        "df['categoria'].dtype"
      ],
      "execution_count": null,
      "outputs": [
        {
          "output_type": "execute_result",
          "data": {
            "text/plain": [
              "dtype('int64')"
            ]
          },
          "metadata": {
            "tags": []
          },
          "execution_count": 22
        }
      ]
    },
    {
      "cell_type": "code",
      "metadata": {
        "colab": {
          "base_uri": "https://localhost:8080/"
        },
        "id": "5KIu0R-RK2Kc",
        "outputId": "ae0ba3cc-f1b1-46b8-aee1-66d60f9fdf16"
      },
      "source": [
        "#df['mora_max'] = df['mora_max'].astype('int64')\r\n",
        "df ['mora_max'] = pd.to_numeric(df['mora_max'], errors='coerce')\r\n",
        "df.mora_max.isnull().sum()\r\n"
      ],
      "execution_count": null,
      "outputs": [
        {
          "output_type": "execute_result",
          "data": {
            "text/plain": [
              "1416745"
            ]
          },
          "metadata": {
            "tags": []
          },
          "execution_count": 27
        }
      ]
    },
    {
      "cell_type": "code",
      "metadata": {
        "colab": {
          "base_uri": "https://localhost:8080/",
          "height": 307
        },
        "id": "RIO9Em9dNrBY",
        "outputId": "792fa1cc-84d6-460e-abac-f2521589a2cc"
      },
      "source": [
        "df['mora_max'] = df['mora_max'].astype('int64')"
      ],
      "execution_count": null,
      "outputs": [
        {
          "output_type": "error",
          "ename": "ValueError",
          "evalue": "ignored",
          "traceback": [
            "\u001b[0;31m---------------------------------------------------------------------------\u001b[0m",
            "\u001b[0;31mValueError\u001b[0m                                Traceback (most recent call last)",
            "\u001b[0;32m<ipython-input-28-6c02ab530256>\u001b[0m in \u001b[0;36m<module>\u001b[0;34m()\u001b[0m\n\u001b[0;32m----> 1\u001b[0;31m \u001b[0mdf\u001b[0m\u001b[0;34m[\u001b[0m\u001b[0;34m'mora_max'\u001b[0m\u001b[0;34m]\u001b[0m \u001b[0;34m=\u001b[0m \u001b[0mdf\u001b[0m\u001b[0;34m[\u001b[0m\u001b[0;34m'mora_max'\u001b[0m\u001b[0;34m]\u001b[0m\u001b[0;34m.\u001b[0m\u001b[0mastype\u001b[0m\u001b[0;34m(\u001b[0m\u001b[0;34m'int64'\u001b[0m\u001b[0;34m)\u001b[0m\u001b[0;34m\u001b[0m\u001b[0;34m\u001b[0m\u001b[0m\n\u001b[0m",
            "\u001b[0;32m/usr/local/lib/python3.6/dist-packages/pandas/core/generic.py\u001b[0m in \u001b[0;36mastype\u001b[0;34m(self, dtype, copy, errors)\u001b[0m\n\u001b[1;32m   5546\u001b[0m         \u001b[0;32melse\u001b[0m\u001b[0;34m:\u001b[0m\u001b[0;34m\u001b[0m\u001b[0;34m\u001b[0m\u001b[0m\n\u001b[1;32m   5547\u001b[0m             \u001b[0;31m# else, only a single dtype is given\u001b[0m\u001b[0;34m\u001b[0m\u001b[0;34m\u001b[0m\u001b[0;34m\u001b[0m\u001b[0m\n\u001b[0;32m-> 5548\u001b[0;31m             \u001b[0mnew_data\u001b[0m \u001b[0;34m=\u001b[0m \u001b[0mself\u001b[0m\u001b[0;34m.\u001b[0m\u001b[0m_mgr\u001b[0m\u001b[0;34m.\u001b[0m\u001b[0mastype\u001b[0m\u001b[0;34m(\u001b[0m\u001b[0mdtype\u001b[0m\u001b[0;34m=\u001b[0m\u001b[0mdtype\u001b[0m\u001b[0;34m,\u001b[0m \u001b[0mcopy\u001b[0m\u001b[0;34m=\u001b[0m\u001b[0mcopy\u001b[0m\u001b[0;34m,\u001b[0m \u001b[0merrors\u001b[0m\u001b[0;34m=\u001b[0m\u001b[0merrors\u001b[0m\u001b[0;34m,\u001b[0m\u001b[0;34m)\u001b[0m\u001b[0;34m\u001b[0m\u001b[0;34m\u001b[0m\u001b[0m\n\u001b[0m\u001b[1;32m   5549\u001b[0m             \u001b[0;32mreturn\u001b[0m \u001b[0mself\u001b[0m\u001b[0;34m.\u001b[0m\u001b[0m_constructor\u001b[0m\u001b[0;34m(\u001b[0m\u001b[0mnew_data\u001b[0m\u001b[0;34m)\u001b[0m\u001b[0;34m.\u001b[0m\u001b[0m__finalize__\u001b[0m\u001b[0;34m(\u001b[0m\u001b[0mself\u001b[0m\u001b[0;34m,\u001b[0m \u001b[0mmethod\u001b[0m\u001b[0;34m=\u001b[0m\u001b[0;34m\"astype\"\u001b[0m\u001b[0;34m)\u001b[0m\u001b[0;34m\u001b[0m\u001b[0;34m\u001b[0m\u001b[0m\n\u001b[1;32m   5550\u001b[0m \u001b[0;34m\u001b[0m\u001b[0m\n",
            "\u001b[0;32m/usr/local/lib/python3.6/dist-packages/pandas/core/internals/managers.py\u001b[0m in \u001b[0;36mastype\u001b[0;34m(self, dtype, copy, errors)\u001b[0m\n\u001b[1;32m    602\u001b[0m         \u001b[0mself\u001b[0m\u001b[0;34m,\u001b[0m \u001b[0mdtype\u001b[0m\u001b[0;34m,\u001b[0m \u001b[0mcopy\u001b[0m\u001b[0;34m:\u001b[0m \u001b[0mbool\u001b[0m \u001b[0;34m=\u001b[0m \u001b[0;32mFalse\u001b[0m\u001b[0;34m,\u001b[0m \u001b[0merrors\u001b[0m\u001b[0;34m:\u001b[0m \u001b[0mstr\u001b[0m \u001b[0;34m=\u001b[0m \u001b[0;34m\"raise\"\u001b[0m\u001b[0;34m\u001b[0m\u001b[0;34m\u001b[0m\u001b[0m\n\u001b[1;32m    603\u001b[0m     ) -> \"BlockManager\":\n\u001b[0;32m--> 604\u001b[0;31m         \u001b[0;32mreturn\u001b[0m \u001b[0mself\u001b[0m\u001b[0;34m.\u001b[0m\u001b[0mapply\u001b[0m\u001b[0;34m(\u001b[0m\u001b[0;34m\"astype\"\u001b[0m\u001b[0;34m,\u001b[0m \u001b[0mdtype\u001b[0m\u001b[0;34m=\u001b[0m\u001b[0mdtype\u001b[0m\u001b[0;34m,\u001b[0m \u001b[0mcopy\u001b[0m\u001b[0;34m=\u001b[0m\u001b[0mcopy\u001b[0m\u001b[0;34m,\u001b[0m \u001b[0merrors\u001b[0m\u001b[0;34m=\u001b[0m\u001b[0merrors\u001b[0m\u001b[0;34m)\u001b[0m\u001b[0;34m\u001b[0m\u001b[0;34m\u001b[0m\u001b[0m\n\u001b[0m\u001b[1;32m    605\u001b[0m \u001b[0;34m\u001b[0m\u001b[0m\n\u001b[1;32m    606\u001b[0m     def convert(\n",
            "\u001b[0;32m/usr/local/lib/python3.6/dist-packages/pandas/core/internals/managers.py\u001b[0m in \u001b[0;36mapply\u001b[0;34m(self, f, align_keys, **kwargs)\u001b[0m\n\u001b[1;32m    407\u001b[0m                 \u001b[0mapplied\u001b[0m \u001b[0;34m=\u001b[0m \u001b[0mb\u001b[0m\u001b[0;34m.\u001b[0m\u001b[0mapply\u001b[0m\u001b[0;34m(\u001b[0m\u001b[0mf\u001b[0m\u001b[0;34m,\u001b[0m \u001b[0;34m**\u001b[0m\u001b[0mkwargs\u001b[0m\u001b[0;34m)\u001b[0m\u001b[0;34m\u001b[0m\u001b[0;34m\u001b[0m\u001b[0m\n\u001b[1;32m    408\u001b[0m             \u001b[0;32melse\u001b[0m\u001b[0;34m:\u001b[0m\u001b[0;34m\u001b[0m\u001b[0;34m\u001b[0m\u001b[0m\n\u001b[0;32m--> 409\u001b[0;31m                 \u001b[0mapplied\u001b[0m \u001b[0;34m=\u001b[0m \u001b[0mgetattr\u001b[0m\u001b[0;34m(\u001b[0m\u001b[0mb\u001b[0m\u001b[0;34m,\u001b[0m \u001b[0mf\u001b[0m\u001b[0;34m)\u001b[0m\u001b[0;34m(\u001b[0m\u001b[0;34m**\u001b[0m\u001b[0mkwargs\u001b[0m\u001b[0;34m)\u001b[0m\u001b[0;34m\u001b[0m\u001b[0;34m\u001b[0m\u001b[0m\n\u001b[0m\u001b[1;32m    410\u001b[0m             \u001b[0mresult_blocks\u001b[0m \u001b[0;34m=\u001b[0m \u001b[0m_extend_blocks\u001b[0m\u001b[0;34m(\u001b[0m\u001b[0mapplied\u001b[0m\u001b[0;34m,\u001b[0m \u001b[0mresult_blocks\u001b[0m\u001b[0;34m)\u001b[0m\u001b[0;34m\u001b[0m\u001b[0;34m\u001b[0m\u001b[0m\n\u001b[1;32m    411\u001b[0m \u001b[0;34m\u001b[0m\u001b[0m\n",
            "\u001b[0;32m/usr/local/lib/python3.6/dist-packages/pandas/core/internals/blocks.py\u001b[0m in \u001b[0;36mastype\u001b[0;34m(self, dtype, copy, errors)\u001b[0m\n\u001b[1;32m    593\u001b[0m             \u001b[0mvals1d\u001b[0m \u001b[0;34m=\u001b[0m \u001b[0mvalues\u001b[0m\u001b[0;34m.\u001b[0m\u001b[0mravel\u001b[0m\u001b[0;34m(\u001b[0m\u001b[0;34m)\u001b[0m\u001b[0;34m\u001b[0m\u001b[0;34m\u001b[0m\u001b[0m\n\u001b[1;32m    594\u001b[0m             \u001b[0;32mtry\u001b[0m\u001b[0;34m:\u001b[0m\u001b[0;34m\u001b[0m\u001b[0;34m\u001b[0m\u001b[0m\n\u001b[0;32m--> 595\u001b[0;31m                 \u001b[0mvalues\u001b[0m \u001b[0;34m=\u001b[0m \u001b[0mastype_nansafe\u001b[0m\u001b[0;34m(\u001b[0m\u001b[0mvals1d\u001b[0m\u001b[0;34m,\u001b[0m \u001b[0mdtype\u001b[0m\u001b[0;34m,\u001b[0m \u001b[0mcopy\u001b[0m\u001b[0;34m=\u001b[0m\u001b[0;32mTrue\u001b[0m\u001b[0;34m)\u001b[0m\u001b[0;34m\u001b[0m\u001b[0;34m\u001b[0m\u001b[0m\n\u001b[0m\u001b[1;32m    596\u001b[0m             \u001b[0;32mexcept\u001b[0m \u001b[0;34m(\u001b[0m\u001b[0mValueError\u001b[0m\u001b[0;34m,\u001b[0m \u001b[0mTypeError\u001b[0m\u001b[0;34m)\u001b[0m\u001b[0;34m:\u001b[0m\u001b[0;34m\u001b[0m\u001b[0;34m\u001b[0m\u001b[0m\n\u001b[1;32m    597\u001b[0m                 \u001b[0;31m# e.g. astype_nansafe can fail on object-dtype of strings\u001b[0m\u001b[0;34m\u001b[0m\u001b[0;34m\u001b[0m\u001b[0;34m\u001b[0m\u001b[0m\n",
            "\u001b[0;32m/usr/local/lib/python3.6/dist-packages/pandas/core/dtypes/cast.py\u001b[0m in \u001b[0;36mastype_nansafe\u001b[0;34m(arr, dtype, copy, skipna)\u001b[0m\n\u001b[1;32m    966\u001b[0m \u001b[0;34m\u001b[0m\u001b[0m\n\u001b[1;32m    967\u001b[0m         \u001b[0;32mif\u001b[0m \u001b[0;32mnot\u001b[0m \u001b[0mnp\u001b[0m\u001b[0;34m.\u001b[0m\u001b[0misfinite\u001b[0m\u001b[0;34m(\u001b[0m\u001b[0marr\u001b[0m\u001b[0;34m)\u001b[0m\u001b[0;34m.\u001b[0m\u001b[0mall\u001b[0m\u001b[0;34m(\u001b[0m\u001b[0;34m)\u001b[0m\u001b[0;34m:\u001b[0m\u001b[0;34m\u001b[0m\u001b[0;34m\u001b[0m\u001b[0m\n\u001b[0;32m--> 968\u001b[0;31m             \u001b[0;32mraise\u001b[0m \u001b[0mValueError\u001b[0m\u001b[0;34m(\u001b[0m\u001b[0;34m\"Cannot convert non-finite values (NA or inf) to integer\"\u001b[0m\u001b[0;34m)\u001b[0m\u001b[0;34m\u001b[0m\u001b[0;34m\u001b[0m\u001b[0m\n\u001b[0m\u001b[1;32m    969\u001b[0m \u001b[0;34m\u001b[0m\u001b[0m\n\u001b[1;32m    970\u001b[0m     \u001b[0;32melif\u001b[0m \u001b[0mis_object_dtype\u001b[0m\u001b[0;34m(\u001b[0m\u001b[0marr\u001b[0m\u001b[0;34m)\u001b[0m\u001b[0;34m:\u001b[0m\u001b[0;34m\u001b[0m\u001b[0;34m\u001b[0m\u001b[0m\n",
            "\u001b[0;31mValueError\u001b[0m: Cannot convert non-finite values (NA or inf) to integer"
          ]
        }
      ]
    },
    {
      "cell_type": "code",
      "metadata": {
        "colab": {
          "base_uri": "https://localhost:8080/"
        },
        "id": "7aLGcuZQOg2t",
        "outputId": "c5df1455-bf9e-4391-ed08-556c8e65c6f9"
      },
      "source": [
        "#df['nro_tot_cuentas'] = df['nro_tot_cuentas'].astype('int64')\r\n",
        "\r\n",
        "df ['ingreso_segurida_social'] = pd.to_numeric(df['ingreso_segurida_social'], errors='coerce')\r\n",
        "df.ingreso_segurida_social.isnull().sum()"
      ],
      "execution_count": null,
      "outputs": [
        {
          "output_type": "execute_result",
          "data": {
            "text/plain": [
              "3609828"
            ]
          },
          "metadata": {
            "tags": []
          },
          "execution_count": 42
        }
      ]
    },
    {
      "cell_type": "code",
      "metadata": {
        "colab": {
          "base_uri": "https://localhost:8080/"
        },
        "id": "AVhTY19gQZGG",
        "outputId": "287f391b-57cd-4137-ef0e-0cab918f3d05"
      },
      "source": [
        "counterFunc = df.apply(lambda x: True if x[3] < 0 else False , axis=1)\r\n",
        "numOfRows = len(counterFunc[counterFunc == True].index)\r\n",
        "numOfRows"
      ],
      "execution_count": null,
      "outputs": [
        {
          "output_type": "execute_result",
          "data": {
            "text/plain": [
              "0"
            ]
          },
          "metadata": {
            "tags": []
          },
          "execution_count": 13
        }
      ]
    },
    {
      "cell_type": "code",
      "metadata": {
        "colab": {
          "base_uri": "https://localhost:8080/"
        },
        "id": "GltwLcIBUjQ7",
        "outputId": "b2045f78-b862-414a-ca43-933817b49670"
      },
      "source": [
        "df ['categoria'] = pd.to_numeric(df['categoria'], errors='coerce')\r\n",
        "df.categoria.isnull().sum()"
      ],
      "execution_count": null,
      "outputs": [
        {
          "output_type": "execute_result",
          "data": {
            "text/plain": [
              "53326"
            ]
          },
          "metadata": {
            "tags": []
          },
          "execution_count": 14
        }
      ]
    },
    {
      "cell_type": "code",
      "metadata": {
        "colab": {
          "base_uri": "https://localhost:8080/"
        },
        "id": "XqeifPHoUnVj",
        "outputId": "2b8e560a-9fa4-4d4a-c5df-26b7556fc194"
      },
      "source": [
        "df['cuota_cred_hipot'].unique()\r\n",
        "\r\n"
      ],
      "execution_count": null,
      "outputs": [
        {
          "output_type": "execute_result",
          "data": {
            "text/plain": [
              "array([             nan,  430290.08      ,  433275.08      , ...,\n",
              "        153067.905     , 1206911.66564218,  620860.5       ])"
            ]
          },
          "metadata": {
            "tags": []
          },
          "execution_count": 30
        }
      ]
    },
    {
      "cell_type": "code",
      "metadata": {
        "colab": {
          "base_uri": "https://localhost:8080/",
          "height": 307
        },
        "id": "RM6KBeywgiiB",
        "outputId": "04fd6855-5554-4b6a-bf5d-95648fdebef9"
      },
      "source": [
        "df['id_registro'] = df['id_cli'] + '#' + df['periodo']"
      ],
      "execution_count": null,
      "outputs": [
        {
          "output_type": "error",
          "ename": "ValueError",
          "evalue": "ignored",
          "traceback": [
            "\u001b[0;31m---------------------------------------------------------------------------\u001b[0m",
            "\u001b[0;31mValueError\u001b[0m                                Traceback (most recent call last)",
            "\u001b[0;32m<ipython-input-45-3f7e08decbcf>\u001b[0m in \u001b[0;36m<module>\u001b[0;34m()\u001b[0m\n\u001b[0;32m----> 1\u001b[0;31m \u001b[0mdf\u001b[0m\u001b[0;34m[\u001b[0m\u001b[0;34m'id_registro'\u001b[0m\u001b[0;34m]\u001b[0m \u001b[0;34m=\u001b[0m \u001b[0mdf\u001b[0m\u001b[0;34m[\u001b[0m\u001b[0;34m'id_cli'\u001b[0m\u001b[0;34m]\u001b[0m \u001b[0;34m+\u001b[0m \u001b[0;34m'#'\u001b[0m \u001b[0;34m+\u001b[0m \u001b[0mdf\u001b[0m\u001b[0;34m[\u001b[0m\u001b[0;34m'periodo'\u001b[0m\u001b[0;34m]\u001b[0m\u001b[0;34m\u001b[0m\u001b[0;34m\u001b[0m\u001b[0m\n\u001b[0m",
            "\u001b[0;32m/usr/local/lib/python3.6/dist-packages/pandas/core/ops/common.py\u001b[0m in \u001b[0;36mnew_method\u001b[0;34m(self, other)\u001b[0m\n\u001b[1;32m     63\u001b[0m         \u001b[0mother\u001b[0m \u001b[0;34m=\u001b[0m \u001b[0mitem_from_zerodim\u001b[0m\u001b[0;34m(\u001b[0m\u001b[0mother\u001b[0m\u001b[0;34m)\u001b[0m\u001b[0;34m\u001b[0m\u001b[0;34m\u001b[0m\u001b[0m\n\u001b[1;32m     64\u001b[0m \u001b[0;34m\u001b[0m\u001b[0m\n\u001b[0;32m---> 65\u001b[0;31m         \u001b[0;32mreturn\u001b[0m \u001b[0mmethod\u001b[0m\u001b[0;34m(\u001b[0m\u001b[0mself\u001b[0m\u001b[0;34m,\u001b[0m \u001b[0mother\u001b[0m\u001b[0;34m)\u001b[0m\u001b[0;34m\u001b[0m\u001b[0;34m\u001b[0m\u001b[0m\n\u001b[0m\u001b[1;32m     66\u001b[0m \u001b[0;34m\u001b[0m\u001b[0m\n\u001b[1;32m     67\u001b[0m     \u001b[0;32mreturn\u001b[0m \u001b[0mnew_method\u001b[0m\u001b[0;34m\u001b[0m\u001b[0;34m\u001b[0m\u001b[0m\n",
            "\u001b[0;32m/usr/local/lib/python3.6/dist-packages/pandas/core/ops/__init__.py\u001b[0m in \u001b[0;36mwrapper\u001b[0;34m(left, right)\u001b[0m\n\u001b[1;32m    341\u001b[0m         \u001b[0mlvalues\u001b[0m \u001b[0;34m=\u001b[0m \u001b[0mextract_array\u001b[0m\u001b[0;34m(\u001b[0m\u001b[0mleft\u001b[0m\u001b[0;34m,\u001b[0m \u001b[0mextract_numpy\u001b[0m\u001b[0;34m=\u001b[0m\u001b[0;32mTrue\u001b[0m\u001b[0;34m)\u001b[0m\u001b[0;34m\u001b[0m\u001b[0;34m\u001b[0m\u001b[0m\n\u001b[1;32m    342\u001b[0m         \u001b[0mrvalues\u001b[0m \u001b[0;34m=\u001b[0m \u001b[0mextract_array\u001b[0m\u001b[0;34m(\u001b[0m\u001b[0mright\u001b[0m\u001b[0;34m,\u001b[0m \u001b[0mextract_numpy\u001b[0m\u001b[0;34m=\u001b[0m\u001b[0;32mTrue\u001b[0m\u001b[0;34m)\u001b[0m\u001b[0;34m\u001b[0m\u001b[0;34m\u001b[0m\u001b[0m\n\u001b[0;32m--> 343\u001b[0;31m         \u001b[0mresult\u001b[0m \u001b[0;34m=\u001b[0m \u001b[0marithmetic_op\u001b[0m\u001b[0;34m(\u001b[0m\u001b[0mlvalues\u001b[0m\u001b[0;34m,\u001b[0m \u001b[0mrvalues\u001b[0m\u001b[0;34m,\u001b[0m \u001b[0mop\u001b[0m\u001b[0;34m)\u001b[0m\u001b[0;34m\u001b[0m\u001b[0;34m\u001b[0m\u001b[0m\n\u001b[0m\u001b[1;32m    344\u001b[0m \u001b[0;34m\u001b[0m\u001b[0m\n\u001b[1;32m    345\u001b[0m         \u001b[0;32mreturn\u001b[0m \u001b[0mleft\u001b[0m\u001b[0;34m.\u001b[0m\u001b[0m_construct_result\u001b[0m\u001b[0;34m(\u001b[0m\u001b[0mresult\u001b[0m\u001b[0;34m,\u001b[0m \u001b[0mname\u001b[0m\u001b[0;34m=\u001b[0m\u001b[0mres_name\u001b[0m\u001b[0;34m)\u001b[0m\u001b[0;34m\u001b[0m\u001b[0;34m\u001b[0m\u001b[0m\n",
            "\u001b[0;32m/usr/local/lib/python3.6/dist-packages/pandas/core/ops/array_ops.py\u001b[0m in \u001b[0;36marithmetic_op\u001b[0;34m(left, right, op)\u001b[0m\n\u001b[1;32m    188\u001b[0m     \u001b[0;32melse\u001b[0m\u001b[0;34m:\u001b[0m\u001b[0;34m\u001b[0m\u001b[0;34m\u001b[0m\u001b[0m\n\u001b[1;32m    189\u001b[0m         \u001b[0;32mwith\u001b[0m \u001b[0mnp\u001b[0m\u001b[0;34m.\u001b[0m\u001b[0merrstate\u001b[0m\u001b[0;34m(\u001b[0m\u001b[0mall\u001b[0m\u001b[0;34m=\u001b[0m\u001b[0;34m\"ignore\"\u001b[0m\u001b[0;34m)\u001b[0m\u001b[0;34m:\u001b[0m\u001b[0;34m\u001b[0m\u001b[0;34m\u001b[0m\u001b[0m\n\u001b[0;32m--> 190\u001b[0;31m             \u001b[0mres_values\u001b[0m \u001b[0;34m=\u001b[0m \u001b[0mna_arithmetic_op\u001b[0m\u001b[0;34m(\u001b[0m\u001b[0mlvalues\u001b[0m\u001b[0;34m,\u001b[0m \u001b[0mrvalues\u001b[0m\u001b[0;34m,\u001b[0m \u001b[0mop\u001b[0m\u001b[0;34m)\u001b[0m\u001b[0;34m\u001b[0m\u001b[0;34m\u001b[0m\u001b[0m\n\u001b[0m\u001b[1;32m    191\u001b[0m \u001b[0;34m\u001b[0m\u001b[0m\n\u001b[1;32m    192\u001b[0m     \u001b[0;32mreturn\u001b[0m \u001b[0mres_values\u001b[0m\u001b[0;34m\u001b[0m\u001b[0;34m\u001b[0m\u001b[0m\n",
            "\u001b[0;32m/usr/local/lib/python3.6/dist-packages/pandas/core/ops/array_ops.py\u001b[0m in \u001b[0;36mna_arithmetic_op\u001b[0;34m(left, right, op, is_cmp)\u001b[0m\n\u001b[1;32m    141\u001b[0m \u001b[0;34m\u001b[0m\u001b[0m\n\u001b[1;32m    142\u001b[0m     \u001b[0;32mtry\u001b[0m\u001b[0;34m:\u001b[0m\u001b[0;34m\u001b[0m\u001b[0;34m\u001b[0m\u001b[0m\n\u001b[0;32m--> 143\u001b[0;31m         \u001b[0mresult\u001b[0m \u001b[0;34m=\u001b[0m \u001b[0mexpressions\u001b[0m\u001b[0;34m.\u001b[0m\u001b[0mevaluate\u001b[0m\u001b[0;34m(\u001b[0m\u001b[0mop\u001b[0m\u001b[0;34m,\u001b[0m \u001b[0mleft\u001b[0m\u001b[0;34m,\u001b[0m \u001b[0mright\u001b[0m\u001b[0;34m)\u001b[0m\u001b[0;34m\u001b[0m\u001b[0;34m\u001b[0m\u001b[0m\n\u001b[0m\u001b[1;32m    144\u001b[0m     \u001b[0;32mexcept\u001b[0m \u001b[0mTypeError\u001b[0m\u001b[0;34m:\u001b[0m\u001b[0;34m\u001b[0m\u001b[0;34m\u001b[0m\u001b[0m\n\u001b[1;32m    145\u001b[0m         \u001b[0;32mif\u001b[0m \u001b[0mis_cmp\u001b[0m\u001b[0;34m:\u001b[0m\u001b[0;34m\u001b[0m\u001b[0;34m\u001b[0m\u001b[0m\n",
            "\u001b[0;32m/usr/local/lib/python3.6/dist-packages/pandas/core/computation/expressions.py\u001b[0m in \u001b[0;36mevaluate\u001b[0;34m(op, a, b, use_numexpr)\u001b[0m\n\u001b[1;32m    231\u001b[0m         \u001b[0muse_numexpr\u001b[0m \u001b[0;34m=\u001b[0m \u001b[0muse_numexpr\u001b[0m \u001b[0;32mand\u001b[0m \u001b[0m_bool_arith_check\u001b[0m\u001b[0;34m(\u001b[0m\u001b[0mop_str\u001b[0m\u001b[0;34m,\u001b[0m \u001b[0ma\u001b[0m\u001b[0;34m,\u001b[0m \u001b[0mb\u001b[0m\u001b[0;34m)\u001b[0m\u001b[0;34m\u001b[0m\u001b[0;34m\u001b[0m\u001b[0m\n\u001b[1;32m    232\u001b[0m         \u001b[0;32mif\u001b[0m \u001b[0muse_numexpr\u001b[0m\u001b[0;34m:\u001b[0m\u001b[0;34m\u001b[0m\u001b[0;34m\u001b[0m\u001b[0m\n\u001b[0;32m--> 233\u001b[0;31m             \u001b[0;32mreturn\u001b[0m \u001b[0m_evaluate\u001b[0m\u001b[0;34m(\u001b[0m\u001b[0mop\u001b[0m\u001b[0;34m,\u001b[0m \u001b[0mop_str\u001b[0m\u001b[0;34m,\u001b[0m \u001b[0ma\u001b[0m\u001b[0;34m,\u001b[0m \u001b[0mb\u001b[0m\u001b[0;34m)\u001b[0m  \u001b[0;31m# type: ignore\u001b[0m\u001b[0;34m\u001b[0m\u001b[0;34m\u001b[0m\u001b[0m\n\u001b[0m\u001b[1;32m    234\u001b[0m     \u001b[0;32mreturn\u001b[0m \u001b[0m_evaluate_standard\u001b[0m\u001b[0;34m(\u001b[0m\u001b[0mop\u001b[0m\u001b[0;34m,\u001b[0m \u001b[0mop_str\u001b[0m\u001b[0;34m,\u001b[0m \u001b[0ma\u001b[0m\u001b[0;34m,\u001b[0m \u001b[0mb\u001b[0m\u001b[0;34m)\u001b[0m\u001b[0;34m\u001b[0m\u001b[0;34m\u001b[0m\u001b[0m\n\u001b[1;32m    235\u001b[0m \u001b[0;34m\u001b[0m\u001b[0m\n",
            "\u001b[0;32m/usr/local/lib/python3.6/dist-packages/pandas/core/computation/expressions.py\u001b[0m in \u001b[0;36m_evaluate_numexpr\u001b[0;34m(op, op_str, a, b)\u001b[0m\n\u001b[1;32m    110\u001b[0m             \u001b[0;34mf\"a_value {op_str} b_value\"\u001b[0m\u001b[0;34m,\u001b[0m\u001b[0;34m\u001b[0m\u001b[0;34m\u001b[0m\u001b[0m\n\u001b[1;32m    111\u001b[0m             \u001b[0mlocal_dict\u001b[0m\u001b[0;34m=\u001b[0m\u001b[0;34m{\u001b[0m\u001b[0;34m\"a_value\"\u001b[0m\u001b[0;34m:\u001b[0m \u001b[0ma_value\u001b[0m\u001b[0;34m,\u001b[0m \u001b[0;34m\"b_value\"\u001b[0m\u001b[0;34m:\u001b[0m \u001b[0mb_value\u001b[0m\u001b[0;34m}\u001b[0m\u001b[0;34m,\u001b[0m\u001b[0;34m\u001b[0m\u001b[0;34m\u001b[0m\u001b[0m\n\u001b[0;32m--> 112\u001b[0;31m             \u001b[0mcasting\u001b[0m\u001b[0;34m=\u001b[0m\u001b[0;34m\"safe\"\u001b[0m\u001b[0;34m,\u001b[0m\u001b[0;34m\u001b[0m\u001b[0;34m\u001b[0m\u001b[0m\n\u001b[0m\u001b[1;32m    113\u001b[0m         )\n\u001b[1;32m    114\u001b[0m \u001b[0;34m\u001b[0m\u001b[0m\n",
            "\u001b[0;32m/usr/local/lib/python3.6/dist-packages/numexpr/necompiler.py\u001b[0m in \u001b[0;36mevaluate\u001b[0;34m(ex, local_dict, global_dict, out, order, casting, **kwargs)\u001b[0m\n\u001b[1;32m    822\u001b[0m     \u001b[0;31m# Create a signature\u001b[0m\u001b[0;34m\u001b[0m\u001b[0;34m\u001b[0m\u001b[0;34m\u001b[0m\u001b[0m\n\u001b[1;32m    823\u001b[0m     signature = [(name, getType(arg)) for (name, arg) in\n\u001b[0;32m--> 824\u001b[0;31m                  zip(names, arguments)]\n\u001b[0m\u001b[1;32m    825\u001b[0m \u001b[0;34m\u001b[0m\u001b[0m\n\u001b[1;32m    826\u001b[0m     \u001b[0;31m# Look up numexpr if possible.\u001b[0m\u001b[0;34m\u001b[0m\u001b[0;34m\u001b[0m\u001b[0;34m\u001b[0m\u001b[0m\n",
            "\u001b[0;32m/usr/local/lib/python3.6/dist-packages/numexpr/necompiler.py\u001b[0m in \u001b[0;36m<listcomp>\u001b[0;34m(.0)\u001b[0m\n\u001b[1;32m    821\u001b[0m \u001b[0;34m\u001b[0m\u001b[0m\n\u001b[1;32m    822\u001b[0m     \u001b[0;31m# Create a signature\u001b[0m\u001b[0;34m\u001b[0m\u001b[0;34m\u001b[0m\u001b[0;34m\u001b[0m\u001b[0m\n\u001b[0;32m--> 823\u001b[0;31m     signature = [(name, getType(arg)) for (name, arg) in\n\u001b[0m\u001b[1;32m    824\u001b[0m                  zip(names, arguments)]\n\u001b[1;32m    825\u001b[0m \u001b[0;34m\u001b[0m\u001b[0m\n",
            "\u001b[0;32m/usr/local/lib/python3.6/dist-packages/numexpr/necompiler.py\u001b[0m in \u001b[0;36mgetType\u001b[0;34m(a)\u001b[0m\n\u001b[1;32m    702\u001b[0m         \u001b[0;32mreturn\u001b[0m \u001b[0mbytes\u001b[0m\u001b[0;34m\u001b[0m\u001b[0;34m\u001b[0m\u001b[0m\n\u001b[1;32m    703\u001b[0m     \u001b[0;32mif\u001b[0m \u001b[0mkind\u001b[0m \u001b[0;34m==\u001b[0m \u001b[0;34m'U'\u001b[0m\u001b[0;34m:\u001b[0m\u001b[0;34m\u001b[0m\u001b[0;34m\u001b[0m\u001b[0m\n\u001b[0;32m--> 704\u001b[0;31m         \u001b[0;32mraise\u001b[0m \u001b[0mValueError\u001b[0m\u001b[0;34m(\u001b[0m\u001b[0;34m'NumExpr 2 does not support Unicode as a dtype.'\u001b[0m\u001b[0;34m)\u001b[0m\u001b[0;34m\u001b[0m\u001b[0;34m\u001b[0m\u001b[0m\n\u001b[0m\u001b[1;32m    705\u001b[0m     \u001b[0;32mraise\u001b[0m \u001b[0mValueError\u001b[0m\u001b[0;34m(\u001b[0m\u001b[0;34m\"unknown type %s\"\u001b[0m \u001b[0;34m%\u001b[0m \u001b[0ma\u001b[0m\u001b[0;34m.\u001b[0m\u001b[0mdtype\u001b[0m\u001b[0;34m.\u001b[0m\u001b[0mname\u001b[0m\u001b[0;34m)\u001b[0m\u001b[0;34m\u001b[0m\u001b[0;34m\u001b[0m\u001b[0m\n\u001b[1;32m    706\u001b[0m \u001b[0;34m\u001b[0m\u001b[0m\n",
            "\u001b[0;31mValueError\u001b[0m: NumExpr 2 does not support Unicode as a dtype."
          ]
        }
      ]
    }
  ]
}